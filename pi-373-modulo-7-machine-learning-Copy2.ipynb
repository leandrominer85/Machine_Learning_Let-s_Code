{
 "cells": [
  {
   "cell_type": "markdown",
   "metadata": {},
   "source": [
    "## Contextualização\n",
    "\n",
    "A PyCoders Ltda., cada vez mais especializada no mundo da Inteligência Artificial e Ciência de Dados, foi procurada por uma fintech para desenvolver um projeto de concessão de crédito para veículos. Nesse projeto, espera-se a criação de valor que discrimine ao máximo os bons pagadores dos maus pagadores. Para isso, foi disponibilizada uma base de dados com mais de 185 mil casos de empréstimos do passado com diversas características dos clientes. Devem ser entregues um modelo. Por questões contratuais, o pagamento será realizado baseado no desempenho (gini) do modelo ao longo do tempo.\n",
    "\n",
    "## Base de Dados\n",
    "\n",
    "Será utilizada uma base de dados com informações cadastrais e histórico de crédito de clientes indianos. O conjunto de dados está dividido em treino e teste sem variável resposta, todos no formato pickle comprimido com gzip. Para leitura, basta executar df = pd.read_pickle('nome_do_arquivo.pkl.gz'). Toda a modelagem e validação deve ser feita em cima do conjunto de treino, subdividindo tal base como a squad achar melhor. Existe também os metadados das variáveis explicativas, para ajudar no desenvolvimento do projeto.\n",
    "\n",
    "## Definições\n",
    "\n",
    "### Nota\n",
    "\n",
    "A nota final da squad será composta por:\n",
    "\n",
    "Desempenho do modelo em uma base de label escondida (50 pontos), sendo avaliado o Gini.\n",
    "\n",
    "A squad com melhor desempenho na base escondida receberá 50 pontos;\n",
    "\n",
    "A squad com segundo melhor desempenho na base escondida receberá 45 pontos;\n",
    "\n",
    "A squad com terceiro melhor desempenho na base escondida receberá 40 pontos;\n",
    "\n",
    "A squad com quarto melhor desempenho na base escondida receberá 35 pontos;\n",
    "\n",
    "Fluxo para decisão de qual modelo será efetivamente usado (50 pontos)\n",
    "\n",
    "Serão avaliados todo o fluxo de modelagem, incluindo (mas não exclusivamente) pré-processamento, métricas, seleção de modelo (25 pontos);\n",
    "\n",
    "Os fatos que levam a squad a decisão de escolha de um modelo final (15 pontos);\n",
    "\n",
    "Motivos que levaram a squad a usar ou não usar determinadas variáveis (estamos simulando uma financeira, então pensem em questões de ética e imagem da empresa, por exemplo) (10 pontos).\n",
    "\n",
    "### Regras de Entrega\n",
    "\n",
    "Deve ser entregue uma base com as predições para a base de teste.\n",
    "\n",
    "Essa base deverá ser um Data Frame com duas colunas: a primeira sendo o ID da pessoa (variável id_pessoa) e a segunda a probabilidade de inadimplência.\n",
    "\n",
    ":warning: Entregar as predições com a probabilidade da inadimplência ocorrer.\n",
    "\n",
    "Deve ser entregue um notebook com a análise exploratória e análise de modelagem, mostrando como as variáveis foram investigadas, as hipóteses levantas, o por quê das decisões.\n",
    "\n",
    "Um vídeo de até 10 min fazendo o walk-through desse notebook (não se preocupem em criar a apresentação ou coisas do tipo, apenas gravem a tela do notebook explicando cada step).\n",
    "\n",
    "Uma tabela-resumo com todos os modelos testados, as variáveis usadas nesse modelo e a métrica encontrada no treino e teste. Isso também pautará as decisões sobre qual modelo foi escolhido.\n",
    "\n",
    "### Dicas\n",
    "\n",
    "Explorar o conceito das variáveis: possui risco de imagem uma empresa utilizar variável de idade para determinar risco de crédito? Vale a pena trazer a variável para o modelo?\n",
    "\n",
    "Criar novas variáveis usando as variáveis que já estão na base: criatividade tem que ser mato.\n",
    "\n",
    "Conversar com Rychard para tirar dúvidas sobre o projeto.\n"
   ]
  },
  {
   "cell_type": "code",
   "execution_count": 2,
   "metadata": {},
   "outputs": [],
   "source": [
    "from pandas_profiling import ProfileReport\n",
    "import pandas as pd\n",
    "import numpy as np\n",
    "import matplotlib.pyplot as plt\n",
    "from sklearn.pipeline import Pipeline\n",
    "import numpy as np\n",
    "from sklearn.preprocessing import OrdinalEncoder\n",
    "from sklearn.compose import ColumnTransformer\n",
    "from sklearn.preprocessing import MinMaxScaler , StandardScaler\n",
    "from sklearn.impute import SimpleImputer\n",
    "from sklearn.metrics import accuracy_score\n",
    "from sklearn.linear_model import LogisticRegression\n",
    "from sklearn.model_selection import RandomizedSearchCV\n",
    "from sklearn.metrics import roc_auc_score\n",
    "from sklearn.ensemble import RandomForestClassifier\n",
    "from sklearn.tree import DecisionTreeClassifier , DecisionTreeRegressor\n",
    "from sklearn.svm import SVC\n",
    "from sklearn.ensemble import BaggingClassifier\n",
    "\n",
    "\n",
    "pd.set_option('display.max_columns', None)"
   ]
  },
  {
   "cell_type": "code",
   "execution_count": 3,
   "metadata": {},
   "outputs": [],
   "source": [
    "treino = pd.read_pickle('treino.pkl')\n",
    "teste = pd.read_pickle('teste_aluno.pkl')"
   ]
  },
  {
   "cell_type": "markdown",
   "metadata": {},
   "source": [
    "# Pré-processamento"
   ]
  },
  {
   "cell_type": "code",
   "execution_count": 3,
   "metadata": {},
   "outputs": [
    {
     "data": {
      "text/plain": [
       "Index(['id_pessoa', 'valor_emprestimo', 'custo_ativo', 'emprestimo_custo',\n",
       "       'agencia', 'revendedora', 'montadora', 'Current_pincode_ID',\n",
       "       'nascimento', 'emprego', 'data_contrato', 'estado', 'funcionario',\n",
       "       'flag_telefone', 'flag_aadhar', 'flag_pan', 'flag_eleitor',\n",
       "       'flag_cmotorista', 'flag_passaporte', 'score', 'score_desc',\n",
       "       'pri_qtd_tot_emp', 'pri_qtd_tot_emp_atv', 'pri_qtd_tot_def',\n",
       "       'pri_emp_abt', 'pri_emp_san', 'pri_emp_tom', 'sec_qtd_tot_emp',\n",
       "       'sec_qtd_tot_emp_atv', 'sec_qtd_tot_def', 'sec_emp_abt', 'sec_emp_san',\n",
       "       'sec_emp_tom', 'par_pri_emp', 'par_seg_emp', 'nov_emp_6m', 'def_emp_6m',\n",
       "       'tem_med_emp', 'tem_pri_emp', 'qtd_sol_emp', 'default'],\n",
       "      dtype='object')"
      ]
     },
     "execution_count": 3,
     "metadata": {},
     "output_type": "execute_result"
    }
   ],
   "source": [
    "treino.columns"
   ]
  },
  {
   "cell_type": "code",
   "execution_count": 4,
   "metadata": {},
   "outputs": [
    {
     "data": {
      "text/html": [
       "<div>\n",
       "<style scoped>\n",
       "    .dataframe tbody tr th:only-of-type {\n",
       "        vertical-align: middle;\n",
       "    }\n",
       "\n",
       "    .dataframe tbody tr th {\n",
       "        vertical-align: top;\n",
       "    }\n",
       "\n",
       "    .dataframe thead th {\n",
       "        text-align: right;\n",
       "    }\n",
       "</style>\n",
       "<table border=\"1\" class=\"dataframe\">\n",
       "  <thead>\n",
       "    <tr style=\"text-align: right;\">\n",
       "      <th></th>\n",
       "      <th>id_pessoa</th>\n",
       "      <th>valor_emprestimo</th>\n",
       "      <th>custo_ativo</th>\n",
       "      <th>emprestimo_custo</th>\n",
       "      <th>agencia</th>\n",
       "      <th>revendedora</th>\n",
       "      <th>montadora</th>\n",
       "      <th>Current_pincode_ID</th>\n",
       "      <th>nascimento</th>\n",
       "      <th>emprego</th>\n",
       "      <th>data_contrato</th>\n",
       "      <th>estado</th>\n",
       "      <th>funcionario</th>\n",
       "      <th>flag_telefone</th>\n",
       "      <th>flag_aadhar</th>\n",
       "      <th>flag_pan</th>\n",
       "      <th>flag_eleitor</th>\n",
       "      <th>flag_cmotorista</th>\n",
       "      <th>flag_passaporte</th>\n",
       "      <th>score</th>\n",
       "      <th>score_desc</th>\n",
       "      <th>pri_qtd_tot_emp</th>\n",
       "      <th>pri_qtd_tot_emp_atv</th>\n",
       "      <th>pri_qtd_tot_def</th>\n",
       "      <th>pri_emp_abt</th>\n",
       "      <th>pri_emp_san</th>\n",
       "      <th>pri_emp_tom</th>\n",
       "      <th>sec_qtd_tot_emp</th>\n",
       "      <th>sec_qtd_tot_emp_atv</th>\n",
       "      <th>sec_qtd_tot_def</th>\n",
       "      <th>sec_emp_abt</th>\n",
       "      <th>sec_emp_san</th>\n",
       "      <th>sec_emp_tom</th>\n",
       "      <th>par_pri_emp</th>\n",
       "      <th>par_seg_emp</th>\n",
       "      <th>nov_emp_6m</th>\n",
       "      <th>def_emp_6m</th>\n",
       "      <th>tem_med_emp</th>\n",
       "      <th>tem_pri_emp</th>\n",
       "      <th>qtd_sol_emp</th>\n",
       "      <th>default</th>\n",
       "    </tr>\n",
       "  </thead>\n",
       "  <tbody>\n",
       "    <tr>\n",
       "      <th>155653</th>\n",
       "      <td>487469</td>\n",
       "      <td>63418</td>\n",
       "      <td>75571</td>\n",
       "      <td>85.00</td>\n",
       "      <td>136</td>\n",
       "      <td>14189</td>\n",
       "      <td>86</td>\n",
       "      <td>3783</td>\n",
       "      <td>10-05-76</td>\n",
       "      <td>Salaried</td>\n",
       "      <td>03-09-18</td>\n",
       "      <td>8</td>\n",
       "      <td>2064</td>\n",
       "      <td>1</td>\n",
       "      <td>1</td>\n",
       "      <td>0</td>\n",
       "      <td>0</td>\n",
       "      <td>0</td>\n",
       "      <td>0</td>\n",
       "      <td>676</td>\n",
       "      <td>F-Low Risk</td>\n",
       "      <td>41</td>\n",
       "      <td>16</td>\n",
       "      <td>2</td>\n",
       "      <td>1365190</td>\n",
       "      <td>1454300</td>\n",
       "      <td>1454300</td>\n",
       "      <td>0</td>\n",
       "      <td>0</td>\n",
       "      <td>0</td>\n",
       "      <td>0</td>\n",
       "      <td>0</td>\n",
       "      <td>0</td>\n",
       "      <td>3746800</td>\n",
       "      <td>0</td>\n",
       "      <td>3</td>\n",
       "      <td>0</td>\n",
       "      <td>0yrs 8mon</td>\n",
       "      <td>5yrs 5mon</td>\n",
       "      <td>0</td>\n",
       "      <td>0</td>\n",
       "    </tr>\n",
       "    <tr>\n",
       "      <th>98628</th>\n",
       "      <td>627194</td>\n",
       "      <td>42494</td>\n",
       "      <td>69042</td>\n",
       "      <td>65.18</td>\n",
       "      <td>1</td>\n",
       "      <td>22056</td>\n",
       "      <td>45</td>\n",
       "      <td>4923</td>\n",
       "      <td>05-02-97</td>\n",
       "      <td>Self employed</td>\n",
       "      <td>26-10-18</td>\n",
       "      <td>3</td>\n",
       "      <td>1298</td>\n",
       "      <td>1</td>\n",
       "      <td>0</td>\n",
       "      <td>0</td>\n",
       "      <td>1</td>\n",
       "      <td>0</td>\n",
       "      <td>0</td>\n",
       "      <td>824</td>\n",
       "      <td>A-Very Low Risk</td>\n",
       "      <td>1</td>\n",
       "      <td>0</td>\n",
       "      <td>0</td>\n",
       "      <td>0</td>\n",
       "      <td>0</td>\n",
       "      <td>0</td>\n",
       "      <td>0</td>\n",
       "      <td>0</td>\n",
       "      <td>0</td>\n",
       "      <td>0</td>\n",
       "      <td>0</td>\n",
       "      <td>0</td>\n",
       "      <td>0</td>\n",
       "      <td>0</td>\n",
       "      <td>0</td>\n",
       "      <td>0</td>\n",
       "      <td>1yrs 1mon</td>\n",
       "      <td>1yrs 1mon</td>\n",
       "      <td>0</td>\n",
       "      <td>0</td>\n",
       "    </tr>\n",
       "    <tr>\n",
       "      <th>132937</th>\n",
       "      <td>636647</td>\n",
       "      <td>56909</td>\n",
       "      <td>69407</td>\n",
       "      <td>84.86</td>\n",
       "      <td>5</td>\n",
       "      <td>17980</td>\n",
       "      <td>86</td>\n",
       "      <td>3396</td>\n",
       "      <td>06-05-83</td>\n",
       "      <td>Salaried</td>\n",
       "      <td>29-10-18</td>\n",
       "      <td>9</td>\n",
       "      <td>679</td>\n",
       "      <td>1</td>\n",
       "      <td>0</td>\n",
       "      <td>0</td>\n",
       "      <td>1</td>\n",
       "      <td>0</td>\n",
       "      <td>0</td>\n",
       "      <td>755</td>\n",
       "      <td>C-Very Low Risk</td>\n",
       "      <td>14</td>\n",
       "      <td>4</td>\n",
       "      <td>0</td>\n",
       "      <td>12162</td>\n",
       "      <td>97826</td>\n",
       "      <td>26664</td>\n",
       "      <td>0</td>\n",
       "      <td>0</td>\n",
       "      <td>0</td>\n",
       "      <td>0</td>\n",
       "      <td>0</td>\n",
       "      <td>0</td>\n",
       "      <td>0</td>\n",
       "      <td>0</td>\n",
       "      <td>4</td>\n",
       "      <td>0</td>\n",
       "      <td>0yrs 5mon</td>\n",
       "      <td>1yrs 4mon</td>\n",
       "      <td>0</td>\n",
       "      <td>0</td>\n",
       "    </tr>\n",
       "    <tr>\n",
       "      <th>29031</th>\n",
       "      <td>518430</td>\n",
       "      <td>69488</td>\n",
       "      <td>82782</td>\n",
       "      <td>85.00</td>\n",
       "      <td>19</td>\n",
       "      <td>14375</td>\n",
       "      <td>86</td>\n",
       "      <td>1838</td>\n",
       "      <td>07-01-83</td>\n",
       "      <td>Self employed</td>\n",
       "      <td>19-09-18</td>\n",
       "      <td>4</td>\n",
       "      <td>603</td>\n",
       "      <td>1</td>\n",
       "      <td>1</td>\n",
       "      <td>0</td>\n",
       "      <td>0</td>\n",
       "      <td>0</td>\n",
       "      <td>0</td>\n",
       "      <td>604</td>\n",
       "      <td>H-Medium Risk</td>\n",
       "      <td>5</td>\n",
       "      <td>2</td>\n",
       "      <td>0</td>\n",
       "      <td>68664</td>\n",
       "      <td>80000</td>\n",
       "      <td>80000</td>\n",
       "      <td>0</td>\n",
       "      <td>0</td>\n",
       "      <td>0</td>\n",
       "      <td>0</td>\n",
       "      <td>0</td>\n",
       "      <td>0</td>\n",
       "      <td>11840</td>\n",
       "      <td>0</td>\n",
       "      <td>2</td>\n",
       "      <td>0</td>\n",
       "      <td>1yrs 1mon</td>\n",
       "      <td>3yrs 1mon</td>\n",
       "      <td>7</td>\n",
       "      <td>0</td>\n",
       "    </tr>\n",
       "    <tr>\n",
       "      <th>67486</th>\n",
       "      <td>577759</td>\n",
       "      <td>54963</td>\n",
       "      <td>66783</td>\n",
       "      <td>84.90</td>\n",
       "      <td>74</td>\n",
       "      <td>22928</td>\n",
       "      <td>86</td>\n",
       "      <td>2578</td>\n",
       "      <td>01-01-94</td>\n",
       "      <td>Salaried</td>\n",
       "      <td>14-10-18</td>\n",
       "      <td>4</td>\n",
       "      <td>286</td>\n",
       "      <td>1</td>\n",
       "      <td>1</td>\n",
       "      <td>0</td>\n",
       "      <td>0</td>\n",
       "      <td>0</td>\n",
       "      <td>0</td>\n",
       "      <td>737</td>\n",
       "      <td>C-Very Low Risk</td>\n",
       "      <td>3</td>\n",
       "      <td>1</td>\n",
       "      <td>0</td>\n",
       "      <td>36654</td>\n",
       "      <td>57131</td>\n",
       "      <td>57131</td>\n",
       "      <td>0</td>\n",
       "      <td>0</td>\n",
       "      <td>0</td>\n",
       "      <td>0</td>\n",
       "      <td>0</td>\n",
       "      <td>0</td>\n",
       "      <td>2658</td>\n",
       "      <td>0</td>\n",
       "      <td>0</td>\n",
       "      <td>0</td>\n",
       "      <td>0yrs 10mon</td>\n",
       "      <td>1yrs 4mon</td>\n",
       "      <td>0</td>\n",
       "      <td>0</td>\n",
       "    </tr>\n",
       "  </tbody>\n",
       "</table>\n",
       "</div>"
      ],
      "text/plain": [
       "        id_pessoa  valor_emprestimo  custo_ativo  emprestimo_custo  agencia  \\\n",
       "155653     487469             63418        75571             85.00      136   \n",
       "98628      627194             42494        69042             65.18        1   \n",
       "132937     636647             56909        69407             84.86        5   \n",
       "29031      518430             69488        82782             85.00       19   \n",
       "67486      577759             54963        66783             84.90       74   \n",
       "\n",
       "        revendedora  montadora  Current_pincode_ID nascimento        emprego  \\\n",
       "155653        14189         86                3783   10-05-76       Salaried   \n",
       "98628         22056         45                4923   05-02-97  Self employed   \n",
       "132937        17980         86                3396   06-05-83       Salaried   \n",
       "29031         14375         86                1838   07-01-83  Self employed   \n",
       "67486         22928         86                2578   01-01-94       Salaried   \n",
       "\n",
       "       data_contrato  estado  funcionario  flag_telefone  flag_aadhar  \\\n",
       "155653      03-09-18       8         2064              1            1   \n",
       "98628       26-10-18       3         1298              1            0   \n",
       "132937      29-10-18       9          679              1            0   \n",
       "29031       19-09-18       4          603              1            1   \n",
       "67486       14-10-18       4          286              1            1   \n",
       "\n",
       "        flag_pan  flag_eleitor  flag_cmotorista  flag_passaporte  score  \\\n",
       "155653         0             0                0                0    676   \n",
       "98628          0             1                0                0    824   \n",
       "132937         0             1                0                0    755   \n",
       "29031          0             0                0                0    604   \n",
       "67486          0             0                0                0    737   \n",
       "\n",
       "             score_desc  pri_qtd_tot_emp  pri_qtd_tot_emp_atv  \\\n",
       "155653       F-Low Risk               41                   16   \n",
       "98628   A-Very Low Risk                1                    0   \n",
       "132937  C-Very Low Risk               14                    4   \n",
       "29031     H-Medium Risk                5                    2   \n",
       "67486   C-Very Low Risk                3                    1   \n",
       "\n",
       "        pri_qtd_tot_def  pri_emp_abt  pri_emp_san  pri_emp_tom  \\\n",
       "155653                2      1365190      1454300      1454300   \n",
       "98628                 0            0            0            0   \n",
       "132937                0        12162        97826        26664   \n",
       "29031                 0        68664        80000        80000   \n",
       "67486                 0        36654        57131        57131   \n",
       "\n",
       "        sec_qtd_tot_emp  sec_qtd_tot_emp_atv  sec_qtd_tot_def  sec_emp_abt  \\\n",
       "155653                0                    0                0            0   \n",
       "98628                 0                    0                0            0   \n",
       "132937                0                    0                0            0   \n",
       "29031                 0                    0                0            0   \n",
       "67486                 0                    0                0            0   \n",
       "\n",
       "        sec_emp_san  sec_emp_tom  par_pri_emp  par_seg_emp  nov_emp_6m  \\\n",
       "155653            0            0      3746800            0           3   \n",
       "98628             0            0            0            0           0   \n",
       "132937            0            0            0            0           4   \n",
       "29031             0            0        11840            0           2   \n",
       "67486             0            0         2658            0           0   \n",
       "\n",
       "        def_emp_6m tem_med_emp tem_pri_emp  qtd_sol_emp  default  \n",
       "155653           0   0yrs 8mon   5yrs 5mon            0        0  \n",
       "98628            0   1yrs 1mon   1yrs 1mon            0        0  \n",
       "132937           0   0yrs 5mon   1yrs 4mon            0        0  \n",
       "29031            0   1yrs 1mon   3yrs 1mon            7        0  \n",
       "67486            0  0yrs 10mon   1yrs 4mon            0        0  "
      ]
     },
     "execution_count": 4,
     "metadata": {},
     "output_type": "execute_result"
    }
   ],
   "source": [
    "treino.head()"
   ]
  },
  {
   "cell_type": "code",
   "execution_count": 5,
   "metadata": {},
   "outputs": [],
   "source": [
    "#prof = ProfileReport(treino)\n",
    "#prof.to_file(output_file=\"output.html\")"
   ]
  },
  {
   "cell_type": "code",
   "execution_count": 6,
   "metadata": {},
   "outputs": [],
   "source": [
    "#Dropando as colunas que identicam os funcionarios. Bem como a origem do veículo\n",
    "colunas_drop = ['agencia','funcionario','revendedora','montadora', \"flag_telefone\",'Current_pincode_ID',\n",
    "                'flag_aadhar', 'flag_passaporte', 'estado']\n",
    "treino.drop(colunas_drop, axis=1, inplace=True)\n",
    "teste.drop(colunas_drop, axis=1, inplace=True)"
   ]
  },
  {
   "cell_type": "code",
   "execution_count": 7,
   "metadata": {},
   "outputs": [],
   "source": [
    "# função para corrigir os anos (61 é considerado como 2061, por exemplo)\n",
    "def corrige_anos(arr):\n",
    "    \n",
    "    '''\n",
    "    Essa função recebe um array de datas no formato string, seleciona se o final dela (ano)\n",
    "    for menor que 20 (referência a 2020) e então formata como ano com inicio 19 ou 20 \n",
    "    \n",
    "    '''\n",
    "    \n",
    "    lista = []\n",
    "    for i in arr:\n",
    "        if int(i[6:]) < 20:\n",
    "            lista.append(i[:6]+'20'+i[6:])\n",
    "        else:\n",
    "            lista.append(i[:6]+'19'+i[6:])\n",
    "    return lista"
   ]
  },
  {
   "cell_type": "code",
   "execution_count": 8,
   "metadata": {},
   "outputs": [],
   "source": [
    "# Convertendo o ano com a função criada\n",
    "treino.nascimento = corrige_anos(treino.nascimento)\n",
    "teste.nascimento = corrige_anos(teste.nascimento)"
   ]
  },
  {
   "cell_type": "code",
   "execution_count": 9,
   "metadata": {
    "scrolled": true
   },
   "outputs": [],
   "source": [
    "#Convertendo o nascimento para anos \n",
    "now = pd.Timestamp('now')\n",
    "treino['idade'] = (now - pd.to_datetime(treino.nascimento,format='%d-%m-%Y')).astype('<m8[Y]')\n",
    "teste['idade'] = (now - pd.to_datetime(teste.nascimento,format='%d-%m-%Y')).astype('<m8[Y]')\n",
    "treino.drop('nascimento', axis =1, inplace=True)\n",
    "teste.drop('nascimento', axis =1, inplace=True)"
   ]
  },
  {
   "cell_type": "code",
   "execution_count": 10,
   "metadata": {},
   "outputs": [],
   "source": [
    "#Convertendo a data do contrato para dias\n",
    "\n",
    "now = pd.Timestamp('now')\n",
    "treino['dias_contrato'] = (now - pd.to_datetime(treino.data_contrato,format='%d-%m-%y')).dt.days\n",
    "teste['dias_contrato'] = (now - pd.to_datetime(teste.data_contrato,format='%d-%m-%y')).dt.days\n",
    "treino.drop('data_contrato', axis =1, inplace=True)\n",
    "teste.drop('data_contrato', axis =1, inplace=True)"
   ]
  },
  {
   "cell_type": "code",
   "execution_count": 11,
   "metadata": {},
   "outputs": [
    {
     "data": {
      "text/plain": [
       "155653    765\n",
       "98628     712\n",
       "132937    709\n",
       "29031     749\n",
       "67486     724\n",
       "         ... \n",
       "158885    723\n",
       "144610    734\n",
       "204677    707\n",
       "68304     776\n",
       "57003     772\n",
       "Name: dias_contrato, Length: 186523, dtype: int64"
      ]
     },
     "execution_count": 11,
     "metadata": {},
     "output_type": "execute_result"
    }
   ],
   "source": [
    "treino.dias_contrato"
   ]
  },
  {
   "cell_type": "code",
   "execution_count": 12,
   "metadata": {},
   "outputs": [],
   "source": [
    "def str_para_mes(arr):\n",
    "    \n",
    "        \n",
    "    '''\n",
    "    Essa função recebe um array de datas no formato string: (5yrs 5mon). Retira a referência ao ano e ao mês e \n",
    "    retorna a soma entre os anos e meses como um array.    \n",
    "    '''\n",
    "    \n",
    "    \n",
    "    ano = []\n",
    "    mes=[]\n",
    "    arr = arr.str.replace('yrs ', '-').str.replace('mon','')\n",
    "    for i in arr.index:\n",
    "        ano.append(int(arr.loc[i].split('-')[0]))\n",
    "        mes.append(int(arr.loc[i].split('-')[1]))\n",
    "\n",
    "\n",
    "    return np.array(ano)*12+np.array(mes)\n",
    "        \n"
   ]
  },
  {
   "cell_type": "code",
   "execution_count": 13,
   "metadata": {
    "scrolled": true
   },
   "outputs": [],
   "source": [
    "#Convertendo para mês\n",
    "treino['tem_med_emp'] = str_para_mes(treino.tem_med_emp)\n",
    "teste['tem_med_emp'] = str_para_mes(teste.tem_med_emp)"
   ]
  },
  {
   "cell_type": "code",
   "execution_count": 14,
   "metadata": {},
   "outputs": [],
   "source": [
    "#Convertendo para mês\n",
    "treino['tem_pri_emp'] = str_para_mes(treino.tem_pri_emp)\n",
    "teste['tem_pri_emp'] = str_para_mes(teste.tem_pri_emp)"
   ]
  },
  {
   "cell_type": "code",
   "execution_count": 15,
   "metadata": {},
   "outputs": [
    {
     "data": {
      "text/plain": [
       "Index(['id_pessoa', 'valor_emprestimo', 'custo_ativo', 'emprestimo_custo',\n",
       "       'emprego', 'flag_pan', 'flag_eleitor', 'flag_cmotorista', 'score',\n",
       "       'score_desc', 'pri_qtd_tot_emp', 'pri_qtd_tot_emp_atv',\n",
       "       'pri_qtd_tot_def', 'pri_emp_abt', 'pri_emp_san', 'pri_emp_tom',\n",
       "       'sec_qtd_tot_emp', 'sec_qtd_tot_emp_atv', 'sec_qtd_tot_def',\n",
       "       'sec_emp_abt', 'sec_emp_san', 'sec_emp_tom', 'par_pri_emp',\n",
       "       'par_seg_emp', 'nov_emp_6m', 'def_emp_6m', 'tem_med_emp', 'tem_pri_emp',\n",
       "       'qtd_sol_emp', 'default', 'idade', 'dias_contrato'],\n",
       "      dtype='object')"
      ]
     },
     "execution_count": 15,
     "metadata": {},
     "output_type": "execute_result"
    }
   ],
   "source": [
    "treino.columns"
   ]
  },
  {
   "cell_type": "code",
   "execution_count": 16,
   "metadata": {},
   "outputs": [],
   "source": [
    "#Retirando a variável resposta e a id para o preprocessamento\n",
    "treino_exp= treino.drop(['default', 'id_pessoa'], axis=1)"
   ]
  },
  {
   "cell_type": "code",
   "execution_count": 17,
   "metadata": {},
   "outputs": [],
   "source": [
    "numericas = ['valor_emprestimo', 'custo_ativo', 'emprestimo_custo',\n",
    "        'score',  'pri_qtd_tot_emp', 'pri_qtd_tot_emp_atv',\n",
    "       'pri_qtd_tot_def', 'pri_emp_abt', 'pri_emp_san', 'pri_emp_tom',\n",
    "       'sec_qtd_tot_emp', 'sec_qtd_tot_emp_atv', 'sec_qtd_tot_def',\n",
    "       'sec_emp_abt', 'sec_emp_san', 'sec_emp_tom', 'par_pri_emp',\n",
    "       'par_seg_emp', 'nov_emp_6m', 'def_emp_6m', 'tem_med_emp', 'tem_pri_emp',\n",
    "       'qtd_sol_emp', 'idade', 'dias_contrato']"
   ]
  },
  {
   "cell_type": "code",
   "execution_count": 18,
   "metadata": {},
   "outputs": [],
   "source": [
    "treino_exp[numericas] = treino_exp[numericas].astype(float)"
   ]
  },
  {
   "cell_type": "code",
   "execution_count": 19,
   "metadata": {},
   "outputs": [],
   "source": [
    "categoricas = ['emprego', 'flag_pan', 'flag_eleitor', 'flag_cmotorista',\n",
    "       'score_desc']"
   ]
  },
  {
   "cell_type": "code",
   "execution_count": 20,
   "metadata": {},
   "outputs": [],
   "source": [
    "#Pipeline para o pré-processmento\n",
    "\n",
    "pipe_num = Pipeline(steps = [\n",
    "    ('impute', SimpleImputer(strategy = 'median' )),\n",
    "    ('minmax', StandardScaler())\n",
    "])\n",
    "\n",
    "pipe_cat = Pipeline(steps = [\n",
    "    ('impute', SimpleImputer(strategy = 'most_frequent')),\n",
    "    ('encoder', OrdinalEncoder())\n",
    "])\n",
    "\n",
    "preproc = ColumnTransformer(transformers = [\n",
    "    ('proc_cat', pipe_cat, categoricas),\n",
    "    ('proc_num', pipe_num, numericas)\n",
    "    \n",
    "], n_jobs=-1)\n",
    "\n",
    "pipe_final = Pipeline([\n",
    "    ('proc', preproc),\n",
    "])\n"
   ]
  },
  {
   "cell_type": "code",
   "execution_count": 21,
   "metadata": {},
   "outputs": [],
   "source": [
    "treino_trans= pipe_final.fit_transform(treino_exp)"
   ]
  },
  {
   "cell_type": "code",
   "execution_count": 22,
   "metadata": {},
   "outputs": [],
   "source": [
    "#Lista de colunas para renomear o DF\n",
    "col = treino.columns.drop(['id_pessoa', 'default'])"
   ]
  },
  {
   "cell_type": "code",
   "execution_count": 23,
   "metadata": {
    "scrolled": true
   },
   "outputs": [],
   "source": [
    "# Transformando o array em DF\n",
    "treino_trans = pd.DataFrame(treino_trans, columns = col)"
   ]
  },
  {
   "cell_type": "code",
   "execution_count": 24,
   "metadata": {},
   "outputs": [
    {
     "data": {
      "text/html": [
       "<div>\n",
       "<style scoped>\n",
       "    .dataframe tbody tr th:only-of-type {\n",
       "        vertical-align: middle;\n",
       "    }\n",
       "\n",
       "    .dataframe tbody tr th {\n",
       "        vertical-align: top;\n",
       "    }\n",
       "\n",
       "    .dataframe thead th {\n",
       "        text-align: right;\n",
       "    }\n",
       "</style>\n",
       "<table border=\"1\" class=\"dataframe\">\n",
       "  <thead>\n",
       "    <tr style=\"text-align: right;\">\n",
       "      <th></th>\n",
       "      <th>valor_emprestimo</th>\n",
       "      <th>custo_ativo</th>\n",
       "      <th>emprestimo_custo</th>\n",
       "      <th>emprego</th>\n",
       "      <th>flag_pan</th>\n",
       "      <th>flag_eleitor</th>\n",
       "      <th>flag_cmotorista</th>\n",
       "      <th>score</th>\n",
       "      <th>score_desc</th>\n",
       "      <th>pri_qtd_tot_emp</th>\n",
       "      <th>pri_qtd_tot_emp_atv</th>\n",
       "      <th>pri_qtd_tot_def</th>\n",
       "      <th>pri_emp_abt</th>\n",
       "      <th>pri_emp_san</th>\n",
       "      <th>pri_emp_tom</th>\n",
       "      <th>sec_qtd_tot_emp</th>\n",
       "      <th>sec_qtd_tot_emp_atv</th>\n",
       "      <th>sec_qtd_tot_def</th>\n",
       "      <th>sec_emp_abt</th>\n",
       "      <th>sec_emp_san</th>\n",
       "      <th>sec_emp_tom</th>\n",
       "      <th>par_pri_emp</th>\n",
       "      <th>par_seg_emp</th>\n",
       "      <th>nov_emp_6m</th>\n",
       "      <th>def_emp_6m</th>\n",
       "      <th>tem_med_emp</th>\n",
       "      <th>tem_pri_emp</th>\n",
       "      <th>qtd_sol_emp</th>\n",
       "      <th>idade</th>\n",
       "      <th>dias_contrato</th>\n",
       "    </tr>\n",
       "  </thead>\n",
       "  <tbody>\n",
       "    <tr>\n",
       "      <th>0</th>\n",
       "      <td>0.0</td>\n",
       "      <td>0.0</td>\n",
       "      <td>0.0</td>\n",
       "      <td>0.0</td>\n",
       "      <td>5.0</td>\n",
       "      <td>0.695888</td>\n",
       "      <td>-0.014865</td>\n",
       "      <td>0.896406</td>\n",
       "      <td>1.143995</td>\n",
       "      <td>7.355630</td>\n",
       "      <td>7.701951</td>\n",
       "      <td>3.378889</td>\n",
       "      <td>1.239846</td>\n",
       "      <td>0.474298</td>\n",
       "      <td>0.473869</td>\n",
       "      <td>-0.092825</td>\n",
       "      <td>-0.087249</td>\n",
       "      <td>-0.065345</td>\n",
       "      <td>-0.031474</td>\n",
       "      <td>-0.03946</td>\n",
       "      <td>-0.038971</td>\n",
       "      <td>23.066048</td>\n",
       "      <td>-0.020723</td>\n",
       "      <td>2.733819</td>\n",
       "      <td>-0.252859</td>\n",
       "      <td>-0.060290</td>\n",
       "      <td>1.703065</td>\n",
       "      <td>-0.293772</td>\n",
       "      <td>0.817909</td>\n",
       "      <td>0.745265</td>\n",
       "    </tr>\n",
       "    <tr>\n",
       "      <th>1</th>\n",
       "      <td>1.0</td>\n",
       "      <td>0.0</td>\n",
       "      <td>1.0</td>\n",
       "      <td>0.0</td>\n",
       "      <td>0.0</td>\n",
       "      <td>-0.910495</td>\n",
       "      <td>-0.357413</td>\n",
       "      <td>-0.837566</td>\n",
       "      <td>1.581459</td>\n",
       "      <td>-0.273514</td>\n",
       "      <td>-0.533376</td>\n",
       "      <td>-0.285939</td>\n",
       "      <td>-0.171842</td>\n",
       "      <td>-0.084420</td>\n",
       "      <td>-0.084163</td>\n",
       "      <td>-0.092825</td>\n",
       "      <td>-0.087249</td>\n",
       "      <td>-0.065345</td>\n",
       "      <td>-0.031474</td>\n",
       "      <td>-0.03946</td>\n",
       "      <td>-0.038971</td>\n",
       "      <td>-0.082681</td>\n",
       "      <td>-0.020723</td>\n",
       "      <td>-0.398311</td>\n",
       "      <td>-0.252859</td>\n",
       "      <td>0.269995</td>\n",
       "      <td>-0.113055</td>\n",
       "      <td>-0.293772</td>\n",
       "      <td>-1.319733</td>\n",
       "      <td>-1.191987</td>\n",
       "    </tr>\n",
       "    <tr>\n",
       "      <th>2</th>\n",
       "      <td>0.0</td>\n",
       "      <td>0.0</td>\n",
       "      <td>1.0</td>\n",
       "      <td>0.0</td>\n",
       "      <td>2.0</td>\n",
       "      <td>0.196177</td>\n",
       "      <td>-0.338263</td>\n",
       "      <td>0.884158</td>\n",
       "      <td>1.377506</td>\n",
       "      <td>2.205958</td>\n",
       "      <td>1.525456</td>\n",
       "      <td>-0.285939</td>\n",
       "      <td>-0.159266</td>\n",
       "      <td>-0.046837</td>\n",
       "      <td>-0.073932</td>\n",
       "      <td>-0.092825</td>\n",
       "      <td>-0.087249</td>\n",
       "      <td>-0.065345</td>\n",
       "      <td>-0.031474</td>\n",
       "      <td>-0.03946</td>\n",
       "      <td>-0.038971</td>\n",
       "      <td>-0.082681</td>\n",
       "      <td>-0.020723</td>\n",
       "      <td>3.777862</td>\n",
       "      <td>-0.252859</td>\n",
       "      <td>-0.258461</td>\n",
       "      <td>-0.008279</td>\n",
       "      <td>-0.293772</td>\n",
       "      <td>0.105362</td>\n",
       "      <td>-1.301643</td>\n",
       "    </tr>\n",
       "    <tr>\n",
       "      <th>3</th>\n",
       "      <td>1.0</td>\n",
       "      <td>0.0</td>\n",
       "      <td>0.0</td>\n",
       "      <td>0.0</td>\n",
       "      <td>7.0</td>\n",
       "      <td>1.161896</td>\n",
       "      <td>0.363464</td>\n",
       "      <td>0.896406</td>\n",
       "      <td>0.931175</td>\n",
       "      <td>0.489400</td>\n",
       "      <td>0.496040</td>\n",
       "      <td>-0.285939</td>\n",
       "      <td>-0.100839</td>\n",
       "      <td>-0.053686</td>\n",
       "      <td>-0.053466</td>\n",
       "      <td>-0.092825</td>\n",
       "      <td>-0.087249</td>\n",
       "      <td>-0.065345</td>\n",
       "      <td>-0.031474</td>\n",
       "      <td>-0.03946</td>\n",
       "      <td>-0.038971</td>\n",
       "      <td>-0.009530</td>\n",
       "      <td>-0.020723</td>\n",
       "      <td>1.689776</td>\n",
       "      <td>-0.252859</td>\n",
       "      <td>0.269995</td>\n",
       "      <td>0.725154</td>\n",
       "      <td>9.681440</td>\n",
       "      <td>0.105362</td>\n",
       "      <td>0.160434</td>\n",
       "    </tr>\n",
       "    <tr>\n",
       "      <th>4</th>\n",
       "      <td>0.0</td>\n",
       "      <td>0.0</td>\n",
       "      <td>0.0</td>\n",
       "      <td>0.0</td>\n",
       "      <td>2.0</td>\n",
       "      <td>0.046779</td>\n",
       "      <td>-0.475933</td>\n",
       "      <td>0.887657</td>\n",
       "      <td>1.324301</td>\n",
       "      <td>0.107943</td>\n",
       "      <td>-0.018668</td>\n",
       "      <td>-0.285939</td>\n",
       "      <td>-0.133940</td>\n",
       "      <td>-0.062472</td>\n",
       "      <td>-0.062241</td>\n",
       "      <td>-0.092825</td>\n",
       "      <td>-0.087249</td>\n",
       "      <td>-0.065345</td>\n",
       "      <td>-0.031474</td>\n",
       "      <td>-0.03946</td>\n",
       "      <td>-0.038971</td>\n",
       "      <td>-0.066259</td>\n",
       "      <td>-0.020723</td>\n",
       "      <td>-0.398311</td>\n",
       "      <td>-0.252859</td>\n",
       "      <td>0.071824</td>\n",
       "      <td>-0.008279</td>\n",
       "      <td>-0.293772</td>\n",
       "      <td>-1.014356</td>\n",
       "      <td>-0.753364</td>\n",
       "    </tr>\n",
       "  </tbody>\n",
       "</table>\n",
       "</div>"
      ],
      "text/plain": [
       "   valor_emprestimo  custo_ativo  emprestimo_custo  emprego  flag_pan  \\\n",
       "0               0.0          0.0               0.0      0.0       5.0   \n",
       "1               1.0          0.0               1.0      0.0       0.0   \n",
       "2               0.0          0.0               1.0      0.0       2.0   \n",
       "3               1.0          0.0               0.0      0.0       7.0   \n",
       "4               0.0          0.0               0.0      0.0       2.0   \n",
       "\n",
       "   flag_eleitor  flag_cmotorista     score  score_desc  pri_qtd_tot_emp  \\\n",
       "0      0.695888        -0.014865  0.896406    1.143995         7.355630   \n",
       "1     -0.910495        -0.357413 -0.837566    1.581459        -0.273514   \n",
       "2      0.196177        -0.338263  0.884158    1.377506         2.205958   \n",
       "3      1.161896         0.363464  0.896406    0.931175         0.489400   \n",
       "4      0.046779        -0.475933  0.887657    1.324301         0.107943   \n",
       "\n",
       "   pri_qtd_tot_emp_atv  pri_qtd_tot_def  pri_emp_abt  pri_emp_san  \\\n",
       "0             7.701951         3.378889     1.239846     0.474298   \n",
       "1            -0.533376        -0.285939    -0.171842    -0.084420   \n",
       "2             1.525456        -0.285939    -0.159266    -0.046837   \n",
       "3             0.496040        -0.285939    -0.100839    -0.053686   \n",
       "4            -0.018668        -0.285939    -0.133940    -0.062472   \n",
       "\n",
       "   pri_emp_tom  sec_qtd_tot_emp  sec_qtd_tot_emp_atv  sec_qtd_tot_def  \\\n",
       "0     0.473869        -0.092825            -0.087249        -0.065345   \n",
       "1    -0.084163        -0.092825            -0.087249        -0.065345   \n",
       "2    -0.073932        -0.092825            -0.087249        -0.065345   \n",
       "3    -0.053466        -0.092825            -0.087249        -0.065345   \n",
       "4    -0.062241        -0.092825            -0.087249        -0.065345   \n",
       "\n",
       "   sec_emp_abt  sec_emp_san  sec_emp_tom  par_pri_emp  par_seg_emp  \\\n",
       "0    -0.031474     -0.03946    -0.038971    23.066048    -0.020723   \n",
       "1    -0.031474     -0.03946    -0.038971    -0.082681    -0.020723   \n",
       "2    -0.031474     -0.03946    -0.038971    -0.082681    -0.020723   \n",
       "3    -0.031474     -0.03946    -0.038971    -0.009530    -0.020723   \n",
       "4    -0.031474     -0.03946    -0.038971    -0.066259    -0.020723   \n",
       "\n",
       "   nov_emp_6m  def_emp_6m  tem_med_emp  tem_pri_emp  qtd_sol_emp     idade  \\\n",
       "0    2.733819   -0.252859    -0.060290     1.703065    -0.293772  0.817909   \n",
       "1   -0.398311   -0.252859     0.269995    -0.113055    -0.293772 -1.319733   \n",
       "2    3.777862   -0.252859    -0.258461    -0.008279    -0.293772  0.105362   \n",
       "3    1.689776   -0.252859     0.269995     0.725154     9.681440  0.105362   \n",
       "4   -0.398311   -0.252859     0.071824    -0.008279    -0.293772 -1.014356   \n",
       "\n",
       "   dias_contrato  \n",
       "0       0.745265  \n",
       "1      -1.191987  \n",
       "2      -1.301643  \n",
       "3       0.160434  \n",
       "4      -0.753364  "
      ]
     },
     "execution_count": 24,
     "metadata": {},
     "output_type": "execute_result"
    }
   ],
   "source": [
    "treino_trans.head()"
   ]
  },
  {
   "cell_type": "code",
   "execution_count": 25,
   "metadata": {
    "scrolled": true
   },
   "outputs": [],
   "source": [
    "#Reinserindo as colunas de id e resposta\n",
    "treino_trans.insert(0, column='id_pessoa' , value=treino.id_pessoa.values)\n"
   ]
  },
  {
   "cell_type": "code",
   "execution_count": 26,
   "metadata": {},
   "outputs": [],
   "source": [
    "treino_trans.insert(1, column='default' , value=treino.default.values)"
   ]
  },
  {
   "cell_type": "code",
   "execution_count": 27,
   "metadata": {},
   "outputs": [
    {
     "data": {
      "text/html": [
       "<div>\n",
       "<style scoped>\n",
       "    .dataframe tbody tr th:only-of-type {\n",
       "        vertical-align: middle;\n",
       "    }\n",
       "\n",
       "    .dataframe tbody tr th {\n",
       "        vertical-align: top;\n",
       "    }\n",
       "\n",
       "    .dataframe thead th {\n",
       "        text-align: right;\n",
       "    }\n",
       "</style>\n",
       "<table border=\"1\" class=\"dataframe\">\n",
       "  <thead>\n",
       "    <tr style=\"text-align: right;\">\n",
       "      <th></th>\n",
       "      <th>id_pessoa</th>\n",
       "      <th>default</th>\n",
       "      <th>valor_emprestimo</th>\n",
       "      <th>custo_ativo</th>\n",
       "      <th>emprestimo_custo</th>\n",
       "      <th>emprego</th>\n",
       "      <th>flag_pan</th>\n",
       "      <th>flag_eleitor</th>\n",
       "      <th>flag_cmotorista</th>\n",
       "      <th>score</th>\n",
       "      <th>score_desc</th>\n",
       "      <th>pri_qtd_tot_emp</th>\n",
       "      <th>pri_qtd_tot_emp_atv</th>\n",
       "      <th>pri_qtd_tot_def</th>\n",
       "      <th>pri_emp_abt</th>\n",
       "      <th>pri_emp_san</th>\n",
       "      <th>pri_emp_tom</th>\n",
       "      <th>sec_qtd_tot_emp</th>\n",
       "      <th>sec_qtd_tot_emp_atv</th>\n",
       "      <th>sec_qtd_tot_def</th>\n",
       "      <th>sec_emp_abt</th>\n",
       "      <th>sec_emp_san</th>\n",
       "      <th>sec_emp_tom</th>\n",
       "      <th>par_pri_emp</th>\n",
       "      <th>par_seg_emp</th>\n",
       "      <th>nov_emp_6m</th>\n",
       "      <th>def_emp_6m</th>\n",
       "      <th>tem_med_emp</th>\n",
       "      <th>tem_pri_emp</th>\n",
       "      <th>qtd_sol_emp</th>\n",
       "      <th>idade</th>\n",
       "      <th>dias_contrato</th>\n",
       "    </tr>\n",
       "  </thead>\n",
       "  <tbody>\n",
       "    <tr>\n",
       "      <th>0</th>\n",
       "      <td>487469</td>\n",
       "      <td>0</td>\n",
       "      <td>0.0</td>\n",
       "      <td>0.0</td>\n",
       "      <td>0.0</td>\n",
       "      <td>0.0</td>\n",
       "      <td>5.0</td>\n",
       "      <td>0.695888</td>\n",
       "      <td>-0.014865</td>\n",
       "      <td>0.896406</td>\n",
       "      <td>1.143995</td>\n",
       "      <td>7.355630</td>\n",
       "      <td>7.701951</td>\n",
       "      <td>3.378889</td>\n",
       "      <td>1.239846</td>\n",
       "      <td>0.474298</td>\n",
       "      <td>0.473869</td>\n",
       "      <td>-0.092825</td>\n",
       "      <td>-0.087249</td>\n",
       "      <td>-0.065345</td>\n",
       "      <td>-0.031474</td>\n",
       "      <td>-0.03946</td>\n",
       "      <td>-0.038971</td>\n",
       "      <td>23.066048</td>\n",
       "      <td>-0.020723</td>\n",
       "      <td>2.733819</td>\n",
       "      <td>-0.252859</td>\n",
       "      <td>-0.060290</td>\n",
       "      <td>1.703065</td>\n",
       "      <td>-0.293772</td>\n",
       "      <td>0.817909</td>\n",
       "      <td>0.745265</td>\n",
       "    </tr>\n",
       "    <tr>\n",
       "      <th>1</th>\n",
       "      <td>627194</td>\n",
       "      <td>0</td>\n",
       "      <td>1.0</td>\n",
       "      <td>0.0</td>\n",
       "      <td>1.0</td>\n",
       "      <td>0.0</td>\n",
       "      <td>0.0</td>\n",
       "      <td>-0.910495</td>\n",
       "      <td>-0.357413</td>\n",
       "      <td>-0.837566</td>\n",
       "      <td>1.581459</td>\n",
       "      <td>-0.273514</td>\n",
       "      <td>-0.533376</td>\n",
       "      <td>-0.285939</td>\n",
       "      <td>-0.171842</td>\n",
       "      <td>-0.084420</td>\n",
       "      <td>-0.084163</td>\n",
       "      <td>-0.092825</td>\n",
       "      <td>-0.087249</td>\n",
       "      <td>-0.065345</td>\n",
       "      <td>-0.031474</td>\n",
       "      <td>-0.03946</td>\n",
       "      <td>-0.038971</td>\n",
       "      <td>-0.082681</td>\n",
       "      <td>-0.020723</td>\n",
       "      <td>-0.398311</td>\n",
       "      <td>-0.252859</td>\n",
       "      <td>0.269995</td>\n",
       "      <td>-0.113055</td>\n",
       "      <td>-0.293772</td>\n",
       "      <td>-1.319733</td>\n",
       "      <td>-1.191987</td>\n",
       "    </tr>\n",
       "    <tr>\n",
       "      <th>2</th>\n",
       "      <td>636647</td>\n",
       "      <td>0</td>\n",
       "      <td>0.0</td>\n",
       "      <td>0.0</td>\n",
       "      <td>1.0</td>\n",
       "      <td>0.0</td>\n",
       "      <td>2.0</td>\n",
       "      <td>0.196177</td>\n",
       "      <td>-0.338263</td>\n",
       "      <td>0.884158</td>\n",
       "      <td>1.377506</td>\n",
       "      <td>2.205958</td>\n",
       "      <td>1.525456</td>\n",
       "      <td>-0.285939</td>\n",
       "      <td>-0.159266</td>\n",
       "      <td>-0.046837</td>\n",
       "      <td>-0.073932</td>\n",
       "      <td>-0.092825</td>\n",
       "      <td>-0.087249</td>\n",
       "      <td>-0.065345</td>\n",
       "      <td>-0.031474</td>\n",
       "      <td>-0.03946</td>\n",
       "      <td>-0.038971</td>\n",
       "      <td>-0.082681</td>\n",
       "      <td>-0.020723</td>\n",
       "      <td>3.777862</td>\n",
       "      <td>-0.252859</td>\n",
       "      <td>-0.258461</td>\n",
       "      <td>-0.008279</td>\n",
       "      <td>-0.293772</td>\n",
       "      <td>0.105362</td>\n",
       "      <td>-1.301643</td>\n",
       "    </tr>\n",
       "    <tr>\n",
       "      <th>3</th>\n",
       "      <td>518430</td>\n",
       "      <td>0</td>\n",
       "      <td>1.0</td>\n",
       "      <td>0.0</td>\n",
       "      <td>0.0</td>\n",
       "      <td>0.0</td>\n",
       "      <td>7.0</td>\n",
       "      <td>1.161896</td>\n",
       "      <td>0.363464</td>\n",
       "      <td>0.896406</td>\n",
       "      <td>0.931175</td>\n",
       "      <td>0.489400</td>\n",
       "      <td>0.496040</td>\n",
       "      <td>-0.285939</td>\n",
       "      <td>-0.100839</td>\n",
       "      <td>-0.053686</td>\n",
       "      <td>-0.053466</td>\n",
       "      <td>-0.092825</td>\n",
       "      <td>-0.087249</td>\n",
       "      <td>-0.065345</td>\n",
       "      <td>-0.031474</td>\n",
       "      <td>-0.03946</td>\n",
       "      <td>-0.038971</td>\n",
       "      <td>-0.009530</td>\n",
       "      <td>-0.020723</td>\n",
       "      <td>1.689776</td>\n",
       "      <td>-0.252859</td>\n",
       "      <td>0.269995</td>\n",
       "      <td>0.725154</td>\n",
       "      <td>9.681440</td>\n",
       "      <td>0.105362</td>\n",
       "      <td>0.160434</td>\n",
       "    </tr>\n",
       "    <tr>\n",
       "      <th>4</th>\n",
       "      <td>577759</td>\n",
       "      <td>0</td>\n",
       "      <td>0.0</td>\n",
       "      <td>0.0</td>\n",
       "      <td>0.0</td>\n",
       "      <td>0.0</td>\n",
       "      <td>2.0</td>\n",
       "      <td>0.046779</td>\n",
       "      <td>-0.475933</td>\n",
       "      <td>0.887657</td>\n",
       "      <td>1.324301</td>\n",
       "      <td>0.107943</td>\n",
       "      <td>-0.018668</td>\n",
       "      <td>-0.285939</td>\n",
       "      <td>-0.133940</td>\n",
       "      <td>-0.062472</td>\n",
       "      <td>-0.062241</td>\n",
       "      <td>-0.092825</td>\n",
       "      <td>-0.087249</td>\n",
       "      <td>-0.065345</td>\n",
       "      <td>-0.031474</td>\n",
       "      <td>-0.03946</td>\n",
       "      <td>-0.038971</td>\n",
       "      <td>-0.066259</td>\n",
       "      <td>-0.020723</td>\n",
       "      <td>-0.398311</td>\n",
       "      <td>-0.252859</td>\n",
       "      <td>0.071824</td>\n",
       "      <td>-0.008279</td>\n",
       "      <td>-0.293772</td>\n",
       "      <td>-1.014356</td>\n",
       "      <td>-0.753364</td>\n",
       "    </tr>\n",
       "  </tbody>\n",
       "</table>\n",
       "</div>"
      ],
      "text/plain": [
       "   id_pessoa  default  valor_emprestimo  custo_ativo  emprestimo_custo  \\\n",
       "0     487469        0               0.0          0.0               0.0   \n",
       "1     627194        0               1.0          0.0               1.0   \n",
       "2     636647        0               0.0          0.0               1.0   \n",
       "3     518430        0               1.0          0.0               0.0   \n",
       "4     577759        0               0.0          0.0               0.0   \n",
       "\n",
       "   emprego  flag_pan  flag_eleitor  flag_cmotorista     score  score_desc  \\\n",
       "0      0.0       5.0      0.695888        -0.014865  0.896406    1.143995   \n",
       "1      0.0       0.0     -0.910495        -0.357413 -0.837566    1.581459   \n",
       "2      0.0       2.0      0.196177        -0.338263  0.884158    1.377506   \n",
       "3      0.0       7.0      1.161896         0.363464  0.896406    0.931175   \n",
       "4      0.0       2.0      0.046779        -0.475933  0.887657    1.324301   \n",
       "\n",
       "   pri_qtd_tot_emp  pri_qtd_tot_emp_atv  pri_qtd_tot_def  pri_emp_abt  \\\n",
       "0         7.355630             7.701951         3.378889     1.239846   \n",
       "1        -0.273514            -0.533376        -0.285939    -0.171842   \n",
       "2         2.205958             1.525456        -0.285939    -0.159266   \n",
       "3         0.489400             0.496040        -0.285939    -0.100839   \n",
       "4         0.107943            -0.018668        -0.285939    -0.133940   \n",
       "\n",
       "   pri_emp_san  pri_emp_tom  sec_qtd_tot_emp  sec_qtd_tot_emp_atv  \\\n",
       "0     0.474298     0.473869        -0.092825            -0.087249   \n",
       "1    -0.084420    -0.084163        -0.092825            -0.087249   \n",
       "2    -0.046837    -0.073932        -0.092825            -0.087249   \n",
       "3    -0.053686    -0.053466        -0.092825            -0.087249   \n",
       "4    -0.062472    -0.062241        -0.092825            -0.087249   \n",
       "\n",
       "   sec_qtd_tot_def  sec_emp_abt  sec_emp_san  sec_emp_tom  par_pri_emp  \\\n",
       "0        -0.065345    -0.031474     -0.03946    -0.038971    23.066048   \n",
       "1        -0.065345    -0.031474     -0.03946    -0.038971    -0.082681   \n",
       "2        -0.065345    -0.031474     -0.03946    -0.038971    -0.082681   \n",
       "3        -0.065345    -0.031474     -0.03946    -0.038971    -0.009530   \n",
       "4        -0.065345    -0.031474     -0.03946    -0.038971    -0.066259   \n",
       "\n",
       "   par_seg_emp  nov_emp_6m  def_emp_6m  tem_med_emp  tem_pri_emp  qtd_sol_emp  \\\n",
       "0    -0.020723    2.733819   -0.252859    -0.060290     1.703065    -0.293772   \n",
       "1    -0.020723   -0.398311   -0.252859     0.269995    -0.113055    -0.293772   \n",
       "2    -0.020723    3.777862   -0.252859    -0.258461    -0.008279    -0.293772   \n",
       "3    -0.020723    1.689776   -0.252859     0.269995     0.725154     9.681440   \n",
       "4    -0.020723   -0.398311   -0.252859     0.071824    -0.008279    -0.293772   \n",
       "\n",
       "      idade  dias_contrato  \n",
       "0  0.817909       0.745265  \n",
       "1 -1.319733      -1.191987  \n",
       "2  0.105362      -1.301643  \n",
       "3  0.105362       0.160434  \n",
       "4 -1.014356      -0.753364  "
      ]
     },
     "execution_count": 27,
     "metadata": {},
     "output_type": "execute_result"
    }
   ],
   "source": [
    "treino_trans.head()"
   ]
  },
  {
   "cell_type": "markdown",
   "metadata": {},
   "source": [
    "### Os mesmos passos do treino no dataframe de teste"
   ]
  },
  {
   "cell_type": "code",
   "execution_count": 28,
   "metadata": {},
   "outputs": [],
   "source": [
    "teste_exp = teste.drop(['id_pessoa'], axis=1)"
   ]
  },
  {
   "cell_type": "code",
   "execution_count": 29,
   "metadata": {},
   "outputs": [],
   "source": [
    "teste_exp = pipe_final.transform(teste_exp)"
   ]
  },
  {
   "cell_type": "code",
   "execution_count": 30,
   "metadata": {},
   "outputs": [],
   "source": [
    "col = teste.columns.drop(['id_pessoa'])"
   ]
  },
  {
   "cell_type": "code",
   "execution_count": 31,
   "metadata": {},
   "outputs": [],
   "source": [
    "teste_trans = pd.DataFrame(teste_exp, columns = col)"
   ]
  },
  {
   "cell_type": "code",
   "execution_count": 32,
   "metadata": {
    "scrolled": true
   },
   "outputs": [],
   "source": [
    "teste_trans.insert(0, column='id_pessoa' , value=teste.id_pessoa.values)"
   ]
  },
  {
   "cell_type": "code",
   "execution_count": 33,
   "metadata": {},
   "outputs": [
    {
     "data": {
      "text/html": [
       "<div>\n",
       "<style scoped>\n",
       "    .dataframe tbody tr th:only-of-type {\n",
       "        vertical-align: middle;\n",
       "    }\n",
       "\n",
       "    .dataframe tbody tr th {\n",
       "        vertical-align: top;\n",
       "    }\n",
       "\n",
       "    .dataframe thead th {\n",
       "        text-align: right;\n",
       "    }\n",
       "</style>\n",
       "<table border=\"1\" class=\"dataframe\">\n",
       "  <thead>\n",
       "    <tr style=\"text-align: right;\">\n",
       "      <th></th>\n",
       "      <th>id_pessoa</th>\n",
       "      <th>valor_emprestimo</th>\n",
       "      <th>custo_ativo</th>\n",
       "      <th>emprestimo_custo</th>\n",
       "      <th>emprego</th>\n",
       "      <th>flag_pan</th>\n",
       "      <th>flag_eleitor</th>\n",
       "      <th>flag_cmotorista</th>\n",
       "      <th>score</th>\n",
       "      <th>score_desc</th>\n",
       "      <th>pri_qtd_tot_emp</th>\n",
       "      <th>pri_qtd_tot_emp_atv</th>\n",
       "      <th>pri_qtd_tot_def</th>\n",
       "      <th>pri_emp_abt</th>\n",
       "      <th>pri_emp_san</th>\n",
       "      <th>pri_emp_tom</th>\n",
       "      <th>sec_qtd_tot_emp</th>\n",
       "      <th>sec_qtd_tot_emp_atv</th>\n",
       "      <th>sec_qtd_tot_def</th>\n",
       "      <th>sec_emp_abt</th>\n",
       "      <th>sec_emp_san</th>\n",
       "      <th>sec_emp_tom</th>\n",
       "      <th>par_pri_emp</th>\n",
       "      <th>par_seg_emp</th>\n",
       "      <th>nov_emp_6m</th>\n",
       "      <th>def_emp_6m</th>\n",
       "      <th>tem_med_emp</th>\n",
       "      <th>tem_pri_emp</th>\n",
       "      <th>qtd_sol_emp</th>\n",
       "      <th>idade</th>\n",
       "      <th>dias_contrato</th>\n",
       "    </tr>\n",
       "  </thead>\n",
       "  <tbody>\n",
       "    <tr>\n",
       "      <th>0</th>\n",
       "      <td>563819</td>\n",
       "      <td>1.0</td>\n",
       "      <td>0.0</td>\n",
       "      <td>1.0</td>\n",
       "      <td>0.0</td>\n",
       "      <td>13.0</td>\n",
       "      <td>-0.515041</td>\n",
       "      <td>0.170443</td>\n",
       "      <td>-1.009914</td>\n",
       "      <td>-0.854152</td>\n",
       "      <td>-0.464243</td>\n",
       "      <td>-0.533376</td>\n",
       "      <td>-0.285939</td>\n",
       "      <td>-0.171842</td>\n",
       "      <td>-0.084420</td>\n",
       "      <td>-0.084163</td>\n",
       "      <td>-0.092825</td>\n",
       "      <td>-0.087249</td>\n",
       "      <td>-0.065345</td>\n",
       "      <td>-0.031474</td>\n",
       "      <td>-0.03946</td>\n",
       "      <td>-0.038971</td>\n",
       "      <td>-0.082681</td>\n",
       "      <td>-0.020723</td>\n",
       "      <td>-0.398311</td>\n",
       "      <td>-0.252859</td>\n",
       "      <td>-0.588745</td>\n",
       "      <td>-0.567085</td>\n",
       "      <td>-0.293772</td>\n",
       "      <td>0.919701</td>\n",
       "      <td>-0.534052</td>\n",
       "    </tr>\n",
       "    <tr>\n",
       "      <th>1</th>\n",
       "      <td>482578</td>\n",
       "      <td>0.0</td>\n",
       "      <td>0.0</td>\n",
       "      <td>0.0</td>\n",
       "      <td>0.0</td>\n",
       "      <td>17.0</td>\n",
       "      <td>-0.923546</td>\n",
       "      <td>-0.712447</td>\n",
       "      <td>-0.077313</td>\n",
       "      <td>-0.803903</td>\n",
       "      <td>-0.273514</td>\n",
       "      <td>-0.018668</td>\n",
       "      <td>-0.285939</td>\n",
       "      <td>-0.124275</td>\n",
       "      <td>-0.066748</td>\n",
       "      <td>-0.066512</td>\n",
       "      <td>-0.092825</td>\n",
       "      <td>-0.087249</td>\n",
       "      <td>-0.065345</td>\n",
       "      <td>-0.031474</td>\n",
       "      <td>-0.03946</td>\n",
       "      <td>-0.038971</td>\n",
       "      <td>-0.082681</td>\n",
       "      <td>-0.020723</td>\n",
       "      <td>0.645732</td>\n",
       "      <td>-0.252859</td>\n",
       "      <td>-0.588745</td>\n",
       "      <td>-0.567085</td>\n",
       "      <td>-0.293772</td>\n",
       "      <td>-1.116148</td>\n",
       "      <td>0.854921</td>\n",
       "    </tr>\n",
       "    <tr>\n",
       "      <th>2</th>\n",
       "      <td>565578</td>\n",
       "      <td>1.0</td>\n",
       "      <td>0.0</td>\n",
       "      <td>0.0</td>\n",
       "      <td>0.0</td>\n",
       "      <td>1.0</td>\n",
       "      <td>2.582259</td>\n",
       "      <td>2.287795</td>\n",
       "      <td>-0.022197</td>\n",
       "      <td>1.401153</td>\n",
       "      <td>-0.273514</td>\n",
       "      <td>-0.018668</td>\n",
       "      <td>-0.285939</td>\n",
       "      <td>-0.171842</td>\n",
       "      <td>-0.074432</td>\n",
       "      <td>-0.074187</td>\n",
       "      <td>-0.092825</td>\n",
       "      <td>-0.087249</td>\n",
       "      <td>-0.065345</td>\n",
       "      <td>-0.031474</td>\n",
       "      <td>-0.03946</td>\n",
       "      <td>-0.038971</td>\n",
       "      <td>-0.082681</td>\n",
       "      <td>-0.020723</td>\n",
       "      <td>-0.398311</td>\n",
       "      <td>-0.252859</td>\n",
       "      <td>0.468165</td>\n",
       "      <td>-0.008279</td>\n",
       "      <td>-0.293772</td>\n",
       "      <td>-0.200016</td>\n",
       "      <td>-0.570604</td>\n",
       "    </tr>\n",
       "    <tr>\n",
       "      <th>3</th>\n",
       "      <td>629237</td>\n",
       "      <td>1.0</td>\n",
       "      <td>0.0</td>\n",
       "      <td>0.0</td>\n",
       "      <td>0.0</td>\n",
       "      <td>13.0</td>\n",
       "      <td>0.299820</td>\n",
       "      <td>0.238491</td>\n",
       "      <td>-0.010824</td>\n",
       "      <td>-0.854152</td>\n",
       "      <td>-0.464243</td>\n",
       "      <td>-0.533376</td>\n",
       "      <td>-0.285939</td>\n",
       "      <td>-0.171842</td>\n",
       "      <td>-0.084420</td>\n",
       "      <td>-0.084163</td>\n",
       "      <td>-0.092825</td>\n",
       "      <td>-0.087249</td>\n",
       "      <td>-0.065345</td>\n",
       "      <td>-0.031474</td>\n",
       "      <td>-0.03946</td>\n",
       "      <td>-0.038971</td>\n",
       "      <td>-0.082681</td>\n",
       "      <td>-0.020723</td>\n",
       "      <td>-0.398311</td>\n",
       "      <td>-0.252859</td>\n",
       "      <td>-0.588745</td>\n",
       "      <td>-0.567085</td>\n",
       "      <td>-0.293772</td>\n",
       "      <td>-0.403601</td>\n",
       "      <td>-1.228539</td>\n",
       "    </tr>\n",
       "    <tr>\n",
       "      <th>4</th>\n",
       "      <td>485542</td>\n",
       "      <td>1.0</td>\n",
       "      <td>0.0</td>\n",
       "      <td>0.0</td>\n",
       "      <td>0.0</td>\n",
       "      <td>13.0</td>\n",
       "      <td>0.945475</td>\n",
       "      <td>1.212776</td>\n",
       "      <td>-0.528741</td>\n",
       "      <td>-0.854152</td>\n",
       "      <td>-0.464243</td>\n",
       "      <td>-0.533376</td>\n",
       "      <td>-0.285939</td>\n",
       "      <td>-0.171842</td>\n",
       "      <td>-0.084420</td>\n",
       "      <td>-0.084163</td>\n",
       "      <td>-0.092825</td>\n",
       "      <td>-0.087249</td>\n",
       "      <td>-0.065345</td>\n",
       "      <td>-0.031474</td>\n",
       "      <td>-0.03946</td>\n",
       "      <td>-0.038971</td>\n",
       "      <td>-0.082681</td>\n",
       "      <td>-0.020723</td>\n",
       "      <td>-0.398311</td>\n",
       "      <td>-0.252859</td>\n",
       "      <td>-0.588745</td>\n",
       "      <td>-0.567085</td>\n",
       "      <td>-0.293772</td>\n",
       "      <td>-0.912563</td>\n",
       "      <td>0.854921</td>\n",
       "    </tr>\n",
       "  </tbody>\n",
       "</table>\n",
       "</div>"
      ],
      "text/plain": [
       "   id_pessoa  valor_emprestimo  custo_ativo  emprestimo_custo  emprego  \\\n",
       "0     563819               1.0          0.0               1.0      0.0   \n",
       "1     482578               0.0          0.0               0.0      0.0   \n",
       "2     565578               1.0          0.0               0.0      0.0   \n",
       "3     629237               1.0          0.0               0.0      0.0   \n",
       "4     485542               1.0          0.0               0.0      0.0   \n",
       "\n",
       "   flag_pan  flag_eleitor  flag_cmotorista     score  score_desc  \\\n",
       "0      13.0     -0.515041         0.170443 -1.009914   -0.854152   \n",
       "1      17.0     -0.923546        -0.712447 -0.077313   -0.803903   \n",
       "2       1.0      2.582259         2.287795 -0.022197    1.401153   \n",
       "3      13.0      0.299820         0.238491 -0.010824   -0.854152   \n",
       "4      13.0      0.945475         1.212776 -0.528741   -0.854152   \n",
       "\n",
       "   pri_qtd_tot_emp  pri_qtd_tot_emp_atv  pri_qtd_tot_def  pri_emp_abt  \\\n",
       "0        -0.464243            -0.533376        -0.285939    -0.171842   \n",
       "1        -0.273514            -0.018668        -0.285939    -0.124275   \n",
       "2        -0.273514            -0.018668        -0.285939    -0.171842   \n",
       "3        -0.464243            -0.533376        -0.285939    -0.171842   \n",
       "4        -0.464243            -0.533376        -0.285939    -0.171842   \n",
       "\n",
       "   pri_emp_san  pri_emp_tom  sec_qtd_tot_emp  sec_qtd_tot_emp_atv  \\\n",
       "0    -0.084420    -0.084163        -0.092825            -0.087249   \n",
       "1    -0.066748    -0.066512        -0.092825            -0.087249   \n",
       "2    -0.074432    -0.074187        -0.092825            -0.087249   \n",
       "3    -0.084420    -0.084163        -0.092825            -0.087249   \n",
       "4    -0.084420    -0.084163        -0.092825            -0.087249   \n",
       "\n",
       "   sec_qtd_tot_def  sec_emp_abt  sec_emp_san  sec_emp_tom  par_pri_emp  \\\n",
       "0        -0.065345    -0.031474     -0.03946    -0.038971    -0.082681   \n",
       "1        -0.065345    -0.031474     -0.03946    -0.038971    -0.082681   \n",
       "2        -0.065345    -0.031474     -0.03946    -0.038971    -0.082681   \n",
       "3        -0.065345    -0.031474     -0.03946    -0.038971    -0.082681   \n",
       "4        -0.065345    -0.031474     -0.03946    -0.038971    -0.082681   \n",
       "\n",
       "   par_seg_emp  nov_emp_6m  def_emp_6m  tem_med_emp  tem_pri_emp  qtd_sol_emp  \\\n",
       "0    -0.020723   -0.398311   -0.252859    -0.588745    -0.567085    -0.293772   \n",
       "1    -0.020723    0.645732   -0.252859    -0.588745    -0.567085    -0.293772   \n",
       "2    -0.020723   -0.398311   -0.252859     0.468165    -0.008279    -0.293772   \n",
       "3    -0.020723   -0.398311   -0.252859    -0.588745    -0.567085    -0.293772   \n",
       "4    -0.020723   -0.398311   -0.252859    -0.588745    -0.567085    -0.293772   \n",
       "\n",
       "      idade  dias_contrato  \n",
       "0  0.919701      -0.534052  \n",
       "1 -1.116148       0.854921  \n",
       "2 -0.200016      -0.570604  \n",
       "3 -0.403601      -1.228539  \n",
       "4 -0.912563       0.854921  "
      ]
     },
     "execution_count": 33,
     "metadata": {},
     "output_type": "execute_result"
    }
   ],
   "source": [
    "teste_trans.head()"
   ]
  },
  {
   "cell_type": "code",
   "execution_count": 34,
   "metadata": {},
   "outputs": [
    {
     "data": {
      "text/plain": [
       "(46631, 31)"
      ]
     },
     "execution_count": 34,
     "metadata": {},
     "output_type": "execute_result"
    }
   ],
   "source": [
    "teste_trans.shape"
   ]
  },
  {
   "cell_type": "code",
   "execution_count": 35,
   "metadata": {},
   "outputs": [],
   "source": [
    "teste_trans.to_csv('teste_trans.csv')"
   ]
  },
  {
   "cell_type": "code",
   "execution_count": 36,
   "metadata": {},
   "outputs": [],
   "source": [
    "treino_trans.to_csv('treino_trans.csv')"
   ]
  },
  {
   "cell_type": "markdown",
   "metadata": {},
   "source": [
    "# Criação dos modelos"
   ]
  },
  {
   "cell_type": "code",
   "execution_count": 3,
   "metadata": {
    "scrolled": true
   },
   "outputs": [],
   "source": [
    "treino_explicativo = pd.read_csv(\"treino_trans.csv\", index_col=0)\n",
    "treino_resposta = treino_explicativo[\"default\"]\n",
    "treino_explicativo = treino_explicativo.drop([\"default\"], axis = 1)\n",
    "teste = pd.read_csv(\"teste_trans.csv\", index_col=0)"
   ]
  },
  {
   "cell_type": "code",
   "execution_count": 46,
   "metadata": {},
   "outputs": [
    {
     "data": {
      "text/html": [
       "<div>\n",
       "<style scoped>\n",
       "    .dataframe tbody tr th:only-of-type {\n",
       "        vertical-align: middle;\n",
       "    }\n",
       "\n",
       "    .dataframe tbody tr th {\n",
       "        vertical-align: top;\n",
       "    }\n",
       "\n",
       "    .dataframe thead th {\n",
       "        text-align: right;\n",
       "    }\n",
       "</style>\n",
       "<table border=\"1\" class=\"dataframe\">\n",
       "  <thead>\n",
       "    <tr style=\"text-align: right;\">\n",
       "      <th></th>\n",
       "      <th>id_pessoa</th>\n",
       "      <th>valor_emprestimo</th>\n",
       "      <th>custo_ativo</th>\n",
       "      <th>emprestimo_custo</th>\n",
       "      <th>emprego</th>\n",
       "      <th>flag_pan</th>\n",
       "      <th>flag_eleitor</th>\n",
       "      <th>flag_cmotorista</th>\n",
       "      <th>score</th>\n",
       "      <th>score_desc</th>\n",
       "      <th>pri_qtd_tot_emp</th>\n",
       "      <th>pri_qtd_tot_emp_atv</th>\n",
       "      <th>pri_qtd_tot_def</th>\n",
       "      <th>pri_emp_abt</th>\n",
       "      <th>pri_emp_san</th>\n",
       "      <th>pri_emp_tom</th>\n",
       "      <th>sec_qtd_tot_emp</th>\n",
       "      <th>sec_qtd_tot_emp_atv</th>\n",
       "      <th>sec_qtd_tot_def</th>\n",
       "      <th>sec_emp_abt</th>\n",
       "      <th>sec_emp_san</th>\n",
       "      <th>sec_emp_tom</th>\n",
       "      <th>par_pri_emp</th>\n",
       "      <th>par_seg_emp</th>\n",
       "      <th>nov_emp_6m</th>\n",
       "      <th>def_emp_6m</th>\n",
       "      <th>tem_med_emp</th>\n",
       "      <th>tem_pri_emp</th>\n",
       "      <th>qtd_sol_emp</th>\n",
       "      <th>idade</th>\n",
       "      <th>dias_contrato</th>\n",
       "    </tr>\n",
       "  </thead>\n",
       "  <tbody>\n",
       "    <tr>\n",
       "      <th>0</th>\n",
       "      <td>563819</td>\n",
       "      <td>1.0</td>\n",
       "      <td>0.0</td>\n",
       "      <td>1.0</td>\n",
       "      <td>0.0</td>\n",
       "      <td>13.0</td>\n",
       "      <td>-0.515041</td>\n",
       "      <td>0.170443</td>\n",
       "      <td>-1.009914</td>\n",
       "      <td>-0.854152</td>\n",
       "      <td>-0.464243</td>\n",
       "      <td>-0.533376</td>\n",
       "      <td>-0.285939</td>\n",
       "      <td>-0.171842</td>\n",
       "      <td>-0.084420</td>\n",
       "      <td>-0.084163</td>\n",
       "      <td>-0.092825</td>\n",
       "      <td>-0.087249</td>\n",
       "      <td>-0.065345</td>\n",
       "      <td>-0.031474</td>\n",
       "      <td>-0.03946</td>\n",
       "      <td>-0.038971</td>\n",
       "      <td>-0.082681</td>\n",
       "      <td>-0.020723</td>\n",
       "      <td>-0.398311</td>\n",
       "      <td>-0.252859</td>\n",
       "      <td>-0.588745</td>\n",
       "      <td>-0.567085</td>\n",
       "      <td>-0.293772</td>\n",
       "      <td>0.919701</td>\n",
       "      <td>-0.534052</td>\n",
       "    </tr>\n",
       "    <tr>\n",
       "      <th>1</th>\n",
       "      <td>482578</td>\n",
       "      <td>0.0</td>\n",
       "      <td>0.0</td>\n",
       "      <td>0.0</td>\n",
       "      <td>0.0</td>\n",
       "      <td>17.0</td>\n",
       "      <td>-0.923546</td>\n",
       "      <td>-0.712447</td>\n",
       "      <td>-0.077313</td>\n",
       "      <td>-0.803903</td>\n",
       "      <td>-0.273514</td>\n",
       "      <td>-0.018668</td>\n",
       "      <td>-0.285939</td>\n",
       "      <td>-0.124275</td>\n",
       "      <td>-0.066748</td>\n",
       "      <td>-0.066512</td>\n",
       "      <td>-0.092825</td>\n",
       "      <td>-0.087249</td>\n",
       "      <td>-0.065345</td>\n",
       "      <td>-0.031474</td>\n",
       "      <td>-0.03946</td>\n",
       "      <td>-0.038971</td>\n",
       "      <td>-0.082681</td>\n",
       "      <td>-0.020723</td>\n",
       "      <td>0.645732</td>\n",
       "      <td>-0.252859</td>\n",
       "      <td>-0.588745</td>\n",
       "      <td>-0.567085</td>\n",
       "      <td>-0.293772</td>\n",
       "      <td>-1.116148</td>\n",
       "      <td>0.854921</td>\n",
       "    </tr>\n",
       "    <tr>\n",
       "      <th>2</th>\n",
       "      <td>565578</td>\n",
       "      <td>1.0</td>\n",
       "      <td>0.0</td>\n",
       "      <td>0.0</td>\n",
       "      <td>0.0</td>\n",
       "      <td>1.0</td>\n",
       "      <td>2.582259</td>\n",
       "      <td>2.287795</td>\n",
       "      <td>-0.022197</td>\n",
       "      <td>1.401153</td>\n",
       "      <td>-0.273514</td>\n",
       "      <td>-0.018668</td>\n",
       "      <td>-0.285939</td>\n",
       "      <td>-0.171842</td>\n",
       "      <td>-0.074432</td>\n",
       "      <td>-0.074187</td>\n",
       "      <td>-0.092825</td>\n",
       "      <td>-0.087249</td>\n",
       "      <td>-0.065345</td>\n",
       "      <td>-0.031474</td>\n",
       "      <td>-0.03946</td>\n",
       "      <td>-0.038971</td>\n",
       "      <td>-0.082681</td>\n",
       "      <td>-0.020723</td>\n",
       "      <td>-0.398311</td>\n",
       "      <td>-0.252859</td>\n",
       "      <td>0.468165</td>\n",
       "      <td>-0.008279</td>\n",
       "      <td>-0.293772</td>\n",
       "      <td>-0.200016</td>\n",
       "      <td>-0.570604</td>\n",
       "    </tr>\n",
       "    <tr>\n",
       "      <th>3</th>\n",
       "      <td>629237</td>\n",
       "      <td>1.0</td>\n",
       "      <td>0.0</td>\n",
       "      <td>0.0</td>\n",
       "      <td>0.0</td>\n",
       "      <td>13.0</td>\n",
       "      <td>0.299820</td>\n",
       "      <td>0.238491</td>\n",
       "      <td>-0.010824</td>\n",
       "      <td>-0.854152</td>\n",
       "      <td>-0.464243</td>\n",
       "      <td>-0.533376</td>\n",
       "      <td>-0.285939</td>\n",
       "      <td>-0.171842</td>\n",
       "      <td>-0.084420</td>\n",
       "      <td>-0.084163</td>\n",
       "      <td>-0.092825</td>\n",
       "      <td>-0.087249</td>\n",
       "      <td>-0.065345</td>\n",
       "      <td>-0.031474</td>\n",
       "      <td>-0.03946</td>\n",
       "      <td>-0.038971</td>\n",
       "      <td>-0.082681</td>\n",
       "      <td>-0.020723</td>\n",
       "      <td>-0.398311</td>\n",
       "      <td>-0.252859</td>\n",
       "      <td>-0.588745</td>\n",
       "      <td>-0.567085</td>\n",
       "      <td>-0.293772</td>\n",
       "      <td>-0.403601</td>\n",
       "      <td>-1.228539</td>\n",
       "    </tr>\n",
       "    <tr>\n",
       "      <th>4</th>\n",
       "      <td>485542</td>\n",
       "      <td>1.0</td>\n",
       "      <td>0.0</td>\n",
       "      <td>0.0</td>\n",
       "      <td>0.0</td>\n",
       "      <td>13.0</td>\n",
       "      <td>0.945475</td>\n",
       "      <td>1.212776</td>\n",
       "      <td>-0.528741</td>\n",
       "      <td>-0.854152</td>\n",
       "      <td>-0.464243</td>\n",
       "      <td>-0.533376</td>\n",
       "      <td>-0.285939</td>\n",
       "      <td>-0.171842</td>\n",
       "      <td>-0.084420</td>\n",
       "      <td>-0.084163</td>\n",
       "      <td>-0.092825</td>\n",
       "      <td>-0.087249</td>\n",
       "      <td>-0.065345</td>\n",
       "      <td>-0.031474</td>\n",
       "      <td>-0.03946</td>\n",
       "      <td>-0.038971</td>\n",
       "      <td>-0.082681</td>\n",
       "      <td>-0.020723</td>\n",
       "      <td>-0.398311</td>\n",
       "      <td>-0.252859</td>\n",
       "      <td>-0.588745</td>\n",
       "      <td>-0.567085</td>\n",
       "      <td>-0.293772</td>\n",
       "      <td>-0.912563</td>\n",
       "      <td>0.854921</td>\n",
       "    </tr>\n",
       "  </tbody>\n",
       "</table>\n",
       "</div>"
      ],
      "text/plain": [
       "   id_pessoa  valor_emprestimo  custo_ativo  emprestimo_custo  emprego  \\\n",
       "0     563819               1.0          0.0               1.0      0.0   \n",
       "1     482578               0.0          0.0               0.0      0.0   \n",
       "2     565578               1.0          0.0               0.0      0.0   \n",
       "3     629237               1.0          0.0               0.0      0.0   \n",
       "4     485542               1.0          0.0               0.0      0.0   \n",
       "\n",
       "   flag_pan  flag_eleitor  flag_cmotorista     score  score_desc  \\\n",
       "0      13.0     -0.515041         0.170443 -1.009914   -0.854152   \n",
       "1      17.0     -0.923546        -0.712447 -0.077313   -0.803903   \n",
       "2       1.0      2.582259         2.287795 -0.022197    1.401153   \n",
       "3      13.0      0.299820         0.238491 -0.010824   -0.854152   \n",
       "4      13.0      0.945475         1.212776 -0.528741   -0.854152   \n",
       "\n",
       "   pri_qtd_tot_emp  pri_qtd_tot_emp_atv  pri_qtd_tot_def  pri_emp_abt  \\\n",
       "0        -0.464243            -0.533376        -0.285939    -0.171842   \n",
       "1        -0.273514            -0.018668        -0.285939    -0.124275   \n",
       "2        -0.273514            -0.018668        -0.285939    -0.171842   \n",
       "3        -0.464243            -0.533376        -0.285939    -0.171842   \n",
       "4        -0.464243            -0.533376        -0.285939    -0.171842   \n",
       "\n",
       "   pri_emp_san  pri_emp_tom  sec_qtd_tot_emp  sec_qtd_tot_emp_atv  \\\n",
       "0    -0.084420    -0.084163        -0.092825            -0.087249   \n",
       "1    -0.066748    -0.066512        -0.092825            -0.087249   \n",
       "2    -0.074432    -0.074187        -0.092825            -0.087249   \n",
       "3    -0.084420    -0.084163        -0.092825            -0.087249   \n",
       "4    -0.084420    -0.084163        -0.092825            -0.087249   \n",
       "\n",
       "   sec_qtd_tot_def  sec_emp_abt  sec_emp_san  sec_emp_tom  par_pri_emp  \\\n",
       "0        -0.065345    -0.031474     -0.03946    -0.038971    -0.082681   \n",
       "1        -0.065345    -0.031474     -0.03946    -0.038971    -0.082681   \n",
       "2        -0.065345    -0.031474     -0.03946    -0.038971    -0.082681   \n",
       "3        -0.065345    -0.031474     -0.03946    -0.038971    -0.082681   \n",
       "4        -0.065345    -0.031474     -0.03946    -0.038971    -0.082681   \n",
       "\n",
       "   par_seg_emp  nov_emp_6m  def_emp_6m  tem_med_emp  tem_pri_emp  qtd_sol_emp  \\\n",
       "0    -0.020723   -0.398311   -0.252859    -0.588745    -0.567085    -0.293772   \n",
       "1    -0.020723    0.645732   -0.252859    -0.588745    -0.567085    -0.293772   \n",
       "2    -0.020723   -0.398311   -0.252859     0.468165    -0.008279    -0.293772   \n",
       "3    -0.020723   -0.398311   -0.252859    -0.588745    -0.567085    -0.293772   \n",
       "4    -0.020723   -0.398311   -0.252859    -0.588745    -0.567085    -0.293772   \n",
       "\n",
       "      idade  dias_contrato  \n",
       "0  0.919701      -0.534052  \n",
       "1 -1.116148       0.854921  \n",
       "2 -0.200016      -0.570604  \n",
       "3 -0.403601      -1.228539  \n",
       "4 -0.912563       0.854921  "
      ]
     },
     "execution_count": 46,
     "metadata": {},
     "output_type": "execute_result"
    }
   ],
   "source": [
    "teste.head()"
   ]
  },
  {
   "cell_type": "markdown",
   "metadata": {},
   "source": [
    "## Regressão logística"
   ]
  },
  {
   "cell_type": "code",
   "execution_count": 5,
   "metadata": {},
   "outputs": [],
   "source": [
    "modelo = LogisticRegression(random_state = 123)\n",
    "\n",
    "\n",
    "rscv = RandomizedSearchCV(estimator = modelo,\n",
    "                          param_distributions = {'penalty' : ['l1', '12', 'elasticnet', 'none'],\n",
    "                                                 'C': np.arange(1, 50),\n",
    "                                                 'solver': ['newton-cg', 'lbfgs', 'sag', 'saga'],},\n",
    "                          scoring = 'roc_auc',\n",
    "                          cv = 5,\n",
    "                          n_jobs= 4,\n",
    "                          refit = True,\n",
    "                          verbose = 1,\n",
    "                          n_iter = 1000)"
   ]
  },
  {
   "cell_type": "code",
   "execution_count": 6,
   "metadata": {
    "scrolled": true
   },
   "outputs": [
    {
     "name": "stderr",
     "output_type": "stream",
     "text": [
      "C:\\Users\\eppmi\\Anaconda3\\lib\\site-packages\\sklearn\\model_selection\\_search.py:278: UserWarning: The total space of parameters 784 is smaller than n_iter=1000. Running 784 iterations. For exhaustive searches, use GridSearchCV.\n",
      "  warnings.warn(\n",
      "[Parallel(n_jobs=4)]: Using backend LokyBackend with 4 concurrent workers.\n"
     ]
    },
    {
     "name": "stdout",
     "output_type": "stream",
     "text": [
      "Fitting 5 folds for each of 784 candidates, totalling 3920 fits\n"
     ]
    },
    {
     "name": "stderr",
     "output_type": "stream",
     "text": [
      "[Parallel(n_jobs=4)]: Done  42 tasks      | elapsed:   18.7s\n",
      "[Parallel(n_jobs=4)]: Done 192 tasks      | elapsed:  5.3min\n",
      "[Parallel(n_jobs=4)]: Done 442 tasks      | elapsed: 13.5min\n",
      "[Parallel(n_jobs=4)]: Done 792 tasks      | elapsed: 25.5min\n",
      "[Parallel(n_jobs=4)]: Done 1242 tasks      | elapsed: 38.9min\n",
      "[Parallel(n_jobs=4)]: Done 1792 tasks      | elapsed: 57.7min\n",
      "[Parallel(n_jobs=4)]: Done 2442 tasks      | elapsed: 81.2min\n",
      "[Parallel(n_jobs=4)]: Done 3192 tasks      | elapsed: 104.8min\n",
      "[Parallel(n_jobs=4)]: Done 3920 out of 3920 | elapsed: 126.9min finished\n",
      "C:\\Users\\eppmi\\Anaconda3\\lib\\site-packages\\scipy\\optimize\\linesearch.py:477: LineSearchWarning: The line search algorithm did not converge\n",
      "  warn('The line search algorithm did not converge', LineSearchWarning)\n",
      "C:\\Users\\eppmi\\Anaconda3\\lib\\site-packages\\scipy\\optimize\\linesearch.py:327: LineSearchWarning: The line search algorithm did not converge\n",
      "  warn('The line search algorithm did not converge', LineSearchWarning)\n",
      "C:\\Users\\eppmi\\Anaconda3\\lib\\site-packages\\scipy\\optimize\\linesearch.py:477: LineSearchWarning: The line search algorithm did not converge\n",
      "  warn('The line search algorithm did not converge', LineSearchWarning)\n",
      "C:\\Users\\eppmi\\Anaconda3\\lib\\site-packages\\scipy\\optimize\\linesearch.py:327: LineSearchWarning: The line search algorithm did not converge\n",
      "  warn('The line search algorithm did not converge', LineSearchWarning)\n",
      "C:\\Users\\eppmi\\Anaconda3\\lib\\site-packages\\scipy\\optimize\\linesearch.py:477: LineSearchWarning: The line search algorithm did not converge\n",
      "  warn('The line search algorithm did not converge', LineSearchWarning)\n",
      "C:\\Users\\eppmi\\Anaconda3\\lib\\site-packages\\scipy\\optimize\\linesearch.py:327: LineSearchWarning: The line search algorithm did not converge\n",
      "  warn('The line search algorithm did not converge', LineSearchWarning)\n",
      "C:\\Users\\eppmi\\Anaconda3\\lib\\site-packages\\scipy\\optimize\\linesearch.py:477: LineSearchWarning: The line search algorithm did not converge\n",
      "  warn('The line search algorithm did not converge', LineSearchWarning)\n",
      "C:\\Users\\eppmi\\Anaconda3\\lib\\site-packages\\scipy\\optimize\\linesearch.py:327: LineSearchWarning: The line search algorithm did not converge\n",
      "  warn('The line search algorithm did not converge', LineSearchWarning)\n",
      "C:\\Users\\eppmi\\Anaconda3\\lib\\site-packages\\scipy\\optimize\\linesearch.py:477: LineSearchWarning: The line search algorithm did not converge\n",
      "  warn('The line search algorithm did not converge', LineSearchWarning)\n",
      "C:\\Users\\eppmi\\Anaconda3\\lib\\site-packages\\scipy\\optimize\\linesearch.py:327: LineSearchWarning: The line search algorithm did not converge\n",
      "  warn('The line search algorithm did not converge', LineSearchWarning)\n",
      "C:\\Users\\eppmi\\Anaconda3\\lib\\site-packages\\scipy\\optimize\\linesearch.py:477: LineSearchWarning: The line search algorithm did not converge\n",
      "  warn('The line search algorithm did not converge', LineSearchWarning)\n",
      "C:\\Users\\eppmi\\Anaconda3\\lib\\site-packages\\scipy\\optimize\\linesearch.py:327: LineSearchWarning: The line search algorithm did not converge\n",
      "  warn('The line search algorithm did not converge', LineSearchWarning)\n",
      "C:\\Users\\eppmi\\Anaconda3\\lib\\site-packages\\scipy\\optimize\\linesearch.py:477: LineSearchWarning: The line search algorithm did not converge\n",
      "  warn('The line search algorithm did not converge', LineSearchWarning)\n",
      "C:\\Users\\eppmi\\Anaconda3\\lib\\site-packages\\scipy\\optimize\\linesearch.py:327: LineSearchWarning: The line search algorithm did not converge\n",
      "  warn('The line search algorithm did not converge', LineSearchWarning)\n",
      "C:\\Users\\eppmi\\Anaconda3\\lib\\site-packages\\scipy\\optimize\\linesearch.py:327: LineSearchWarning: The line search algorithm did not converge\n",
      "  warn('The line search algorithm did not converge', LineSearchWarning)\n",
      "C:\\Users\\eppmi\\Anaconda3\\lib\\site-packages\\sklearn\\utils\\optimize.py:204: UserWarning: Line Search failed\n",
      "  warnings.warn('Line Search failed')\n"
     ]
    },
    {
     "data": {
      "text/plain": [
       "RandomizedSearchCV(cv=5, estimator=LogisticRegression(random_state=123),\n",
       "                   n_iter=1000, n_jobs=4,\n",
       "                   param_distributions={'C': array([ 1,  2,  3,  4,  5,  6,  7,  8,  9, 10, 11, 12, 13, 14, 15, 16, 17,\n",
       "       18, 19, 20, 21, 22, 23, 24, 25, 26, 27, 28, 29, 30, 31, 32, 33, 34,\n",
       "       35, 36, 37, 38, 39, 40, 41, 42, 43, 44, 45, 46, 47, 48, 49]),\n",
       "                                        'penalty': ['l1', '12', 'elasticnet',\n",
       "                                                    'none'],\n",
       "                                        'solver': ['newton-cg', 'lbfgs', 'sag',\n",
       "                                                   'saga']},\n",
       "                   scoring='roc_auc', verbose=1)"
      ]
     },
     "execution_count": 6,
     "metadata": {},
     "output_type": "execute_result"
    }
   ],
   "source": [
    "rscv.fit(treino_explicativo, treino_resposta)"
   ]
  },
  {
   "cell_type": "code",
   "execution_count": 7,
   "metadata": {},
   "outputs": [
    {
     "data": {
      "text/plain": [
       "{'solver': 'newton-cg', 'penalty': 'none', 'C': 1}"
      ]
     },
     "execution_count": 7,
     "metadata": {},
     "output_type": "execute_result"
    }
   ],
   "source": [
    "rscv.best_params_"
   ]
  },
  {
   "cell_type": "code",
   "execution_count": 8,
   "metadata": {},
   "outputs": [],
   "source": [
    "y_teste_pred = rscv.predict_proba(treino_explicativo)"
   ]
  },
  {
   "cell_type": "code",
   "execution_count": 9,
   "metadata": {},
   "outputs": [
    {
     "data": {
      "text/plain": [
       "0.6290246390899086"
      ]
     },
     "execution_count": 9,
     "metadata": {},
     "output_type": "execute_result"
    }
   ],
   "source": [
    "roc_auc_score(treino_resposta, y_teste_pred[:, 1])"
   ]
  },
  {
   "cell_type": "markdown",
   "metadata": {},
   "source": [
    "## Random forest"
   ]
  },
  {
   "cell_type": "code",
   "execution_count": 10,
   "metadata": {},
   "outputs": [],
   "source": [
    "modelo = RandomForestClassifier(n_estimators = 100,\n",
    "                                max_depth=5,\n",
    "                                max_samples = 10,\n",
    "                                n_jobs = -1) \n",
    "\n"
   ]
  },
  {
   "cell_type": "code",
   "execution_count": 11,
   "metadata": {},
   "outputs": [
    {
     "data": {
      "text/plain": [
       "RandomForestClassifier(max_depth=5, max_samples=10, n_jobs=-1)"
      ]
     },
     "execution_count": 11,
     "metadata": {},
     "output_type": "execute_result"
    }
   ],
   "source": [
    "modelo.fit(treino_explicativo, treino_resposta)"
   ]
  },
  {
   "cell_type": "code",
   "execution_count": 12,
   "metadata": {},
   "outputs": [],
   "source": [
    "y_teste_pred = modelo.predict_proba(treino_explicativo)"
   ]
  },
  {
   "cell_type": "code",
   "execution_count": 13,
   "metadata": {},
   "outputs": [
    {
     "data": {
      "text/plain": [
       "0.5533905198782701"
      ]
     },
     "execution_count": 13,
     "metadata": {},
     "output_type": "execute_result"
    }
   ],
   "source": [
    "roc_auc_score(treino_resposta, y_teste_pred[:, 1])"
   ]
  },
  {
   "cell_type": "code",
   "execution_count": 4,
   "metadata": {},
   "outputs": [],
   "source": [
    "modelo = RandomForestClassifier() \n",
    "\n",
    "\n",
    "rscv = RandomizedSearchCV(estimator = modelo,\n",
    "                          param_distributions = {'n_estimators': np.arange(100, 1000, 100),\n",
    "                                                 'max_samples': np.arange(1, 5),\n",
    "                                                 'max_depth': np.arange(3,5),\n",
    "                                                 \n",
    "                                                 'criterion': ['gini', 'entropy'],\n",
    "                                                 'max_leaf_nodes': np.arange(0, 50),\n",
    "                                                 'min_samples_split': np.arange(2, 50),\n",
    "                                                 'n_jobs': [4],\n",
    "                                                 'class_weight' : ['balanced', 'balanced_subsample', 'None'],\n",
    "                                                 'min_impurity_decrease': np.arange(0, 1, 0.001)},\n",
    "                          scoring = 'roc_auc',\n",
    "                          cv = 5,\n",
    "                          refit = True,\n",
    "                          verbose = 1,\n",
    "                            n_jobs = 4,\n",
    "                          n_iter = 100)"
   ]
  },
  {
   "cell_type": "code",
   "execution_count": 5,
   "metadata": {
    "scrolled": true
   },
   "outputs": [
    {
     "name": "stdout",
     "output_type": "stream",
     "text": [
      "Fitting 5 folds for each of 100 candidates, totalling 500 fits\n"
     ]
    },
    {
     "name": "stderr",
     "output_type": "stream",
     "text": [
      "[Parallel(n_jobs=4)]: Using backend LokyBackend with 4 concurrent workers.\n",
      "[Parallel(n_jobs=4)]: Done  42 tasks      | elapsed:  2.7min\n",
      "[Parallel(n_jobs=4)]: Done 192 tasks      | elapsed: 10.5min\n",
      "[Parallel(n_jobs=4)]: Done 442 tasks      | elapsed: 23.5min\n",
      "[Parallel(n_jobs=4)]: Done 500 out of 500 | elapsed: 25.6min finished\n"
     ]
    },
    {
     "data": {
      "text/plain": [
       "RandomizedSearchCV(cv=5, estimator=RandomForestClassifier(), n_iter=100,\n",
       "                   n_jobs=4,\n",
       "                   param_distributions={'class_weight': ['balanced',\n",
       "                                                         'balanced_subsample',\n",
       "                                                         'None'],\n",
       "                                        'criterion': ['gini', 'entropy'],\n",
       "                                        'max_depth': array([3, 4]),\n",
       "                                        'max_leaf_nodes': array([ 0,  1,  2,  3,  4,  5,  6,  7,  8,  9, 10, 11, 12, 13, 14, 15, 16,\n",
       "       17, 18, 19, 20, 21, 22, 23, 24, 25, 26, 27, 28, 29, 30, 31, 32, 33,\n",
       "       34, 35, 36, 37, 38, 39, 40, 4...\n",
       "       0.981, 0.982, 0.983, 0.984, 0.985, 0.986, 0.987, 0.988, 0.989,\n",
       "       0.99 , 0.991, 0.992, 0.993, 0.994, 0.995, 0.996, 0.997, 0.998,\n",
       "       0.999]),\n",
       "                                        'min_samples_split': array([ 2,  3,  4,  5,  6,  7,  8,  9, 10, 11, 12, 13, 14, 15, 16, 17, 18,\n",
       "       19, 20, 21, 22, 23, 24, 25, 26, 27, 28, 29, 30, 31, 32, 33, 34, 35,\n",
       "       36, 37, 38, 39, 40, 41, 42, 43, 44, 45, 46, 47, 48, 49]),\n",
       "                                        'n_estimators': array([100, 200, 300, 400, 500, 600, 700, 800, 900]),\n",
       "                                        'n_jobs': [4]},\n",
       "                   scoring='roc_auc', verbose=1)"
      ]
     },
     "execution_count": 5,
     "metadata": {},
     "output_type": "execute_result"
    }
   ],
   "source": [
    "rscv.fit(treino_explicativo, treino_resposta)"
   ]
  },
  {
   "cell_type": "code",
   "execution_count": 6,
   "metadata": {},
   "outputs": [
    {
     "data": {
      "text/plain": [
       "{'n_jobs': 4,\n",
       " 'n_estimators': 700,\n",
       " 'min_samples_split': 25,\n",
       " 'min_impurity_decrease': 0.509,\n",
       " 'max_samples': 2,\n",
       " 'max_leaf_nodes': 36,\n",
       " 'max_depth': 4,\n",
       " 'criterion': 'entropy',\n",
       " 'class_weight': 'balanced'}"
      ]
     },
     "execution_count": 6,
     "metadata": {},
     "output_type": "execute_result"
    }
   ],
   "source": [
    "rscv.best_params_"
   ]
  },
  {
   "cell_type": "code",
   "execution_count": 7,
   "metadata": {},
   "outputs": [],
   "source": [
    "y_teste_pred = rscv.predict_proba(treino_explicativo)"
   ]
  },
  {
   "cell_type": "code",
   "execution_count": 8,
   "metadata": {},
   "outputs": [
    {
     "data": {
      "text/plain": [
       "0.5"
      ]
     },
     "execution_count": 8,
     "metadata": {},
     "output_type": "execute_result"
    }
   ],
   "source": [
    "roc_auc_score(treino_resposta, y_teste_pred[:, 1])"
   ]
  },
  {
   "cell_type": "markdown",
   "metadata": {},
   "source": [
    "### Arvores"
   ]
  },
  {
   "cell_type": "code",
   "execution_count": 20,
   "metadata": {},
   "outputs": [],
   "source": [
    "modelo = DecisionTreeClassifier()\n",
    "rscv = RandomizedSearchCV(estimator = modelo,\n",
    "                          param_distributions = {'max_depth': np.arange(1, 20), \n",
    "                                                 'criterion': ['gini', 'entropy'],\n",
    "                                                 'min_samples_leaf': np.arange(1, 50),\n",
    "                                                 'min_samples_split': np.arange(2, 50),\n",
    "                                                 'min_impurity_decrease': np.arange(0, 1, 0.001)},\n",
    "                          scoring = 'roc_auc',\n",
    "                          cv = 5,\n",
    "                          refit = True,\n",
    "                          verbose = 1,\n",
    "                            n_jobs = 5,\n",
    "                          n_iter = 1440)"
   ]
  },
  {
   "cell_type": "code",
   "execution_count": 21,
   "metadata": {
    "scrolled": false
   },
   "outputs": [
    {
     "name": "stdout",
     "output_type": "stream",
     "text": [
      "Fitting 5 folds for each of 1440 candidates, totalling 7200 fits\n"
     ]
    },
    {
     "name": "stderr",
     "output_type": "stream",
     "text": [
      "[Parallel(n_jobs=5)]: Using backend LokyBackend with 5 concurrent workers.\n",
      "[Parallel(n_jobs=5)]: Done  40 tasks      | elapsed:    5.6s\n",
      "[Parallel(n_jobs=5)]: Done 190 tasks      | elapsed:   20.4s\n",
      "[Parallel(n_jobs=5)]: Done 440 tasks      | elapsed:   52.4s\n",
      "[Parallel(n_jobs=5)]: Done 790 tasks      | elapsed:  1.5min\n",
      "[Parallel(n_jobs=5)]: Done 1240 tasks      | elapsed:  2.4min\n",
      "[Parallel(n_jobs=5)]: Done 1790 tasks      | elapsed:  3.4min\n",
      "[Parallel(n_jobs=5)]: Done 2440 tasks      | elapsed:  4.6min\n",
      "[Parallel(n_jobs=5)]: Done 3190 tasks      | elapsed:  5.9min\n",
      "[Parallel(n_jobs=5)]: Done 4040 tasks      | elapsed:  7.3min\n",
      "[Parallel(n_jobs=5)]: Done 4990 tasks      | elapsed:  9.0min\n",
      "[Parallel(n_jobs=5)]: Done 6040 tasks      | elapsed: 10.8min\n",
      "[Parallel(n_jobs=5)]: Done 7190 tasks      | elapsed: 12.8min\n",
      "[Parallel(n_jobs=5)]: Done 7200 out of 7200 | elapsed: 12.9min finished\n"
     ]
    },
    {
     "data": {
      "text/plain": [
       "RandomizedSearchCV(cv=5, estimator=DecisionTreeClassifier(), n_iter=1440,\n",
       "                   n_jobs=5,\n",
       "                   param_distributions={'criterion': ['gini', 'entropy'],\n",
       "                                        'max_depth': array([ 1,  2,  3,  4,  5,  6,  7,  8,  9, 10, 11, 12, 13, 14, 15, 16, 17,\n",
       "       18, 19]),\n",
       "                                        'min_impurity_decrease': array([0.   , 0.001, 0.002, 0.003, 0.004, 0.005, 0.006, 0.007, 0.008,\n",
       "       0.009, 0.01 , 0.011, 0.012, 0.013, 0.014, 0.015, 0.016, 0.017,\n",
       "       0.018, 0.019, 0....\n",
       "                                        'min_samples_leaf': array([ 1,  2,  3,  4,  5,  6,  7,  8,  9, 10, 11, 12, 13, 14, 15, 16, 17,\n",
       "       18, 19, 20, 21, 22, 23, 24, 25, 26, 27, 28, 29, 30, 31, 32, 33, 34,\n",
       "       35, 36, 37, 38, 39, 40, 41, 42, 43, 44, 45, 46, 47, 48, 49]),\n",
       "                                        'min_samples_split': array([ 2,  3,  4,  5,  6,  7,  8,  9, 10, 11, 12, 13, 14, 15, 16, 17, 18,\n",
       "       19, 20, 21, 22, 23, 24, 25, 26, 27, 28, 29, 30, 31, 32, 33, 34, 35,\n",
       "       36, 37, 38, 39, 40, 41, 42, 43, 44, 45, 46, 47, 48, 49])},\n",
       "                   scoring='roc_auc', verbose=1)"
      ]
     },
     "execution_count": 21,
     "metadata": {},
     "output_type": "execute_result"
    }
   ],
   "source": [
    "rscv.fit(treino_explicativo, treino_resposta)"
   ]
  },
  {
   "cell_type": "code",
   "execution_count": 22,
   "metadata": {},
   "outputs": [
    {
     "data": {
      "text/plain": [
       "{'min_samples_split': 34,\n",
       " 'min_samples_leaf': 22,\n",
       " 'min_impurity_decrease': 0.0,\n",
       " 'max_depth': 7,\n",
       " 'criterion': 'entropy'}"
      ]
     },
     "execution_count": 22,
     "metadata": {},
     "output_type": "execute_result"
    }
   ],
   "source": [
    "rscv.best_params_"
   ]
  },
  {
   "cell_type": "code",
   "execution_count": 23,
   "metadata": {},
   "outputs": [],
   "source": [
    "y_teste_pred = rscv.predict_proba(treino_explicativo)"
   ]
  },
  {
   "cell_type": "code",
   "execution_count": 24,
   "metadata": {},
   "outputs": [
    {
     "data": {
      "text/plain": [
       "0.6315743808039911"
      ]
     },
     "execution_count": 24,
     "metadata": {},
     "output_type": "execute_result"
    }
   ],
   "source": [
    "roc_auc_score(treino_resposta, y_teste_pred[:, 1])"
   ]
  },
  {
   "cell_type": "code",
   "execution_count": null,
   "metadata": {},
   "outputs": [],
   "source": []
  },
  {
   "cell_type": "markdown",
   "metadata": {},
   "source": [
    "### Tree Regressor"
   ]
  },
  {
   "cell_type": "code",
   "execution_count": 25,
   "metadata": {},
   "outputs": [],
   "source": [
    "modelo = DecisionTreeRegressor()\n",
    "rscv = RandomizedSearchCV(estimator = modelo,\n",
    "                          param_distributions = {'max_depth': np.arange(1, 20), \n",
    "                                                 'criterion': ['mse', 'friedman_mse', 'mae'],\n",
    "                                                 'min_samples_leaf': np.arange(1, 50),\n",
    "                                                 'min_samples_split': np.arange(2, 50),\n",
    "                                                 'min_impurity_decrease': np.arange(0, 1, 0.01)},\n",
    "                          scoring = 'roc_auc',\n",
    "                          cv = 5,\n",
    "                          refit = True,\n",
    "                          verbose = 1,\n",
    "                            n_jobs = 4,\n",
    "                          n_iter = 10)"
   ]
  },
  {
   "cell_type": "code",
   "execution_count": 26,
   "metadata": {
    "scrolled": true
   },
   "outputs": [
    {
     "name": "stdout",
     "output_type": "stream",
     "text": [
      "Fitting 5 folds for each of 10 candidates, totalling 50 fits\n"
     ]
    },
    {
     "name": "stderr",
     "output_type": "stream",
     "text": [
      "[Parallel(n_jobs=4)]: Using backend LokyBackend with 4 concurrent workers.\n",
      "[Parallel(n_jobs=4)]: Done  42 tasks      | elapsed: 154.3min\n",
      "[Parallel(n_jobs=4)]: Done  50 out of  50 | elapsed: 217.4min finished\n"
     ]
    },
    {
     "data": {
      "text/plain": [
       "RandomizedSearchCV(cv=5, estimator=DecisionTreeRegressor(), n_jobs=4,\n",
       "                   param_distributions={'criterion': ['mse', 'friedman_mse',\n",
       "                                                      'mae'],\n",
       "                                        'max_depth': array([ 1,  2,  3,  4,  5,  6,  7,  8,  9, 10, 11, 12, 13, 14, 15, 16, 17,\n",
       "       18, 19]),\n",
       "                                        'min_impurity_decrease': array([0.  , 0.01, 0.02, 0.03, 0.04, 0.05, 0.06, 0.07, 0.08, 0.09, 0.1 ,\n",
       "       0.11, 0.12, 0.13, 0.14, 0.15, 0.16, 0.17, 0.18, 0.19, 0.2 , 0.21,\n",
       "       0.22, 0.23, 0.24,...\n",
       "                                        'min_samples_leaf': array([ 1,  2,  3,  4,  5,  6,  7,  8,  9, 10, 11, 12, 13, 14, 15, 16, 17,\n",
       "       18, 19, 20, 21, 22, 23, 24, 25, 26, 27, 28, 29, 30, 31, 32, 33, 34,\n",
       "       35, 36, 37, 38, 39, 40, 41, 42, 43, 44, 45, 46, 47, 48, 49]),\n",
       "                                        'min_samples_split': array([ 2,  3,  4,  5,  6,  7,  8,  9, 10, 11, 12, 13, 14, 15, 16, 17, 18,\n",
       "       19, 20, 21, 22, 23, 24, 25, 26, 27, 28, 29, 30, 31, 32, 33, 34, 35,\n",
       "       36, 37, 38, 39, 40, 41, 42, 43, 44, 45, 46, 47, 48, 49])},\n",
       "                   scoring='roc_auc', verbose=1)"
      ]
     },
     "execution_count": 26,
     "metadata": {},
     "output_type": "execute_result"
    }
   ],
   "source": [
    "rscv.fit(treino_explicativo, treino_resposta)"
   ]
  },
  {
   "cell_type": "code",
   "execution_count": 27,
   "metadata": {},
   "outputs": [
    {
     "data": {
      "text/plain": [
       "{'min_samples_split': 36,\n",
       " 'min_samples_leaf': 19,\n",
       " 'min_impurity_decrease': 0.74,\n",
       " 'max_depth': 3,\n",
       " 'criterion': 'friedman_mse'}"
      ]
     },
     "execution_count": 27,
     "metadata": {},
     "output_type": "execute_result"
    }
   ],
   "source": [
    "rscv.best_params_"
   ]
  },
  {
   "cell_type": "code",
   "execution_count": 28,
   "metadata": {},
   "outputs": [],
   "source": [
    "y_teste_pred = rscv.predict(treino_explicativo)"
   ]
  },
  {
   "cell_type": "code",
   "execution_count": 29,
   "metadata": {},
   "outputs": [
    {
     "data": {
      "text/plain": [
       "0.6003817688715436"
      ]
     },
     "execution_count": 29,
     "metadata": {},
     "output_type": "execute_result"
    }
   ],
   "source": [
    "roc_auc_score(treino_resposta, y_teste_pred)"
   ]
  },
  {
   "cell_type": "markdown",
   "metadata": {},
   "source": [
    "### SVM"
   ]
  },
  {
   "cell_type": "code",
   "execution_count": null,
   "metadata": {},
   "outputs": [],
   "source": [
    "modelo = SVC()\n",
    "\n",
    "\n",
    "rscv = RandomizedSearchCV(estimator = modelo,\n",
    "                          param_distributions = {'C': np.arange(1, 50),\n",
    "                                                 'kernel':['linear', 'poly', 'rbf', 'sigmoid'],                                                 \n",
    "                                                 'gamma': ['scale', 'auto'],\n",
    "                                                'shrinking':['True', \"False\"],\n",
    "                                                'probability': [\"True\"],\n",
    "                                                'decision_function_shape': ['ovo', 'ovr'],\n",
    "                                                'break_ties': ['True','False']},\n",
    "                          scoring = 'roc_auc',\n",
    "                          cv = 5,\n",
    "                          n_jobs= 4,\n",
    "                          refit = True,\n",
    "                          verbose = 1,\n",
    "                          n_iter = 100)"
   ]
  },
  {
   "cell_type": "code",
   "execution_count": null,
   "metadata": {},
   "outputs": [],
   "source": [
    "base = SVC()\n",
    "modelo = BaggingClassifier(base_estimator = base,\n",
    "                           n_estimators = 10,\n",
    "                           max_samples = 0.6,\n",
    "                           bootstrap = False)\n",
    "modelo.fit(treino_explicativo, treino_resposta)"
   ]
  },
  {
   "cell_type": "code",
   "execution_count": null,
   "metadata": {},
   "outputs": [],
   "source": [
    "y_teste_pred = rscv.predict_proba(treino_explicativo)\n",
    "roc_auc_score(treino_resposta, y_teste_pred[:, 1])"
   ]
  },
  {
   "cell_type": "code",
   "execution_count": null,
   "metadata": {},
   "outputs": [],
   "source": []
  },
  {
   "cell_type": "code",
   "execution_count": 4,
   "metadata": {},
   "outputs": [],
   "source": [
    "modelo = SVC(probability = True,)"
   ]
  },
  {
   "cell_type": "code",
   "execution_count": 5,
   "metadata": {
    "scrolled": true
   },
   "outputs": [
    {
     "data": {
      "text/plain": [
       "SVC(probability=True)"
      ]
     },
     "execution_count": 5,
     "metadata": {},
     "output_type": "execute_result"
    }
   ],
   "source": [
    "modelo.fit(treino_explicativo, treino_resposta)"
   ]
  },
  {
   "cell_type": "code",
   "execution_count": 6,
   "metadata": {},
   "outputs": [],
   "source": [
    "y_teste_pred = modelo.predict_proba(treino_explicativo)"
   ]
  },
  {
   "cell_type": "code",
   "execution_count": 7,
   "metadata": {},
   "outputs": [
    {
     "data": {
      "text/plain": [
       "0.4655817728573386"
      ]
     },
     "execution_count": 7,
     "metadata": {},
     "output_type": "execute_result"
    }
   ],
   "source": [
    "roc_auc_score(treino_resposta, y_teste_pred[:, 1])"
   ]
  },
  {
   "cell_type": "code",
   "execution_count": null,
   "metadata": {},
   "outputs": [],
   "source": []
  },
  {
   "cell_type": "code",
   "execution_count": null,
   "metadata": {},
   "outputs": [],
   "source": []
  },
  {
   "cell_type": "code",
   "execution_count": null,
   "metadata": {},
   "outputs": [],
   "source": []
  },
  {
   "cell_type": "code",
   "execution_count": null,
   "metadata": {},
   "outputs": [],
   "source": [
    "pipe_num = Pipeline(steps = [\n",
    "    ('impute', SimpleImputer(strategy = 'median')),\n",
    "    ('minmax', MinMaxScaler())\n",
    "])\n",
    "\n",
    "pipe_cat = Pipeline(steps = [\n",
    "    ('impute', SimpleImputer(strategy = 'most_frequent')),\n",
    "    ('encoder', OrdinalEncoder())\n",
    "])\n",
    "\n",
    "preproc = ColumnTransformer(transformers = [\n",
    "    ('proc_num', pipe_num, numericas),\n",
    "    ('proc_cat', pipe_cat, ['emprego', 'score_desc'])\n",
    "])\n",
    "\n",
    "pipe_final = Pipeline([\n",
    "    ('proc', preproc),\n",
    "    ('modelo', LogisticRegression())\n",
    "])\n"
   ]
  },
  {
   "cell_type": "code",
   "execution_count": null,
   "metadata": {},
   "outputs": [],
   "source": [
    "pipe_final.fit(treino_exp, treino_resp)"
   ]
  },
  {
   "cell_type": "code",
   "execution_count": null,
   "metadata": {},
   "outputs": [],
   "source": []
  },
  {
   "cell_type": "code",
   "execution_count": null,
   "metadata": {},
   "outputs": [],
   "source": [
    "lr = LogisticRegression()"
   ]
  },
  {
   "cell_type": "code",
   "execution_count": null,
   "metadata": {},
   "outputs": [],
   "source": [
    "treino_trans.columns"
   ]
  },
  {
   "cell_type": "code",
   "execution_count": null,
   "metadata": {
    "scrolled": true
   },
   "outputs": [],
   "source": [
    "x_treino = treino_trans.drop('default', axis=1)\n",
    "y_treino = treino_trans['default']"
   ]
  },
  {
   "cell_type": "code",
   "execution_count": null,
   "metadata": {},
   "outputs": [],
   "source": [
    "lr.fit(x_treino,y_treino)"
   ]
  },
  {
   "cell_type": "code",
   "execution_count": null,
   "metadata": {},
   "outputs": [],
   "source": [
    "y_pred = lr.predict(x_treino)"
   ]
  },
  {
   "cell_type": "code",
   "execution_count": null,
   "metadata": {},
   "outputs": [],
   "source": [
    "accuracy_score(y_treino,y_pred)"
   ]
  },
  {
   "cell_type": "markdown",
   "metadata": {},
   "source": [
    "# Separação"
   ]
  },
  {
   "cell_type": "code",
   "execution_count": 5,
   "metadata": {},
   "outputs": [],
   "source": [
    "from sklearn.decomposition import PCA"
   ]
  },
  {
   "cell_type": "code",
   "execution_count": 6,
   "metadata": {},
   "outputs": [
    {
     "name": "stdout",
     "output_type": "stream",
     "text": [
      "[9.99999989e-01 5.87682186e-09 8.32762919e-10 7.01990483e-10]\n"
     ]
    }
   ],
   "source": [
    "\n",
    "\n",
    "pca = PCA(n_components=4)\n",
    "pca.fit(treino_explicativo)\n",
    "print(pca.explained_variance_ratio_)"
   ]
  },
  {
   "cell_type": "code",
   "execution_count": 7,
   "metadata": {},
   "outputs": [],
   "source": [
    "treino_pca = pca.transform(treino_explicativo)\n",
    "teste_pca = pca.transform(teste)"
   ]
  },
  {
   "cell_type": "code",
   "execution_count": 19,
   "metadata": {},
   "outputs": [
    {
     "data": {
      "text/plain": [
       "(186523, 4)"
      ]
     },
     "execution_count": 19,
     "metadata": {},
     "output_type": "execute_result"
    }
   ],
   "source": [
    "treino_pca.shape"
   ]
  },
  {
   "cell_type": "code",
   "execution_count": 20,
   "metadata": {
    "scrolled": true
   },
   "outputs": [],
   "source": [
    "modelo = SVC()\n",
    "\n",
    "\n",
    "rscv = RandomizedSearchCV(estimator = modelo,\n",
    "                          param_distributions = {'C': np.arange(1, 50),\n",
    "                                                 'kernel':['linear', 'rbf', 'sigmoid'],                                                 \n",
    "                                                 'gamma': ['scale', 'auto'],\n",
    "                                                'shrinking':['True', \"False\"],\n",
    "                                                'probability': [\"True\"],\n",
    "                                                'decision_function_shape': ['ovo', 'ovr'],\n",
    "                                                'break_ties': ['True','False']},\n",
    "                          scoring = 'roc_auc',\n",
    "                          cv = 5,\n",
    "                          n_jobs= -1,\n",
    "                          refit = True,\n",
    "                          verbose = 1,\n",
    "                          n_iter = 100)"
   ]
  },
  {
   "cell_type": "code",
   "execution_count": null,
   "metadata": {},
   "outputs": [],
   "source": [
    "rscv = SVC(probability=True)\n",
    "rscv.fit(treino_pca, treino_resposta)"
   ]
  },
  {
   "cell_type": "code",
   "execution_count": 35,
   "metadata": {},
   "outputs": [],
   "source": [
    "y_teste_pred = rscv.predict_proba(treino_pca)"
   ]
  },
  {
   "cell_type": "code",
   "execution_count": 36,
   "metadata": {},
   "outputs": [
    {
     "data": {
      "text/plain": [
       "0.5194567039611498"
      ]
     },
     "execution_count": 36,
     "metadata": {},
     "output_type": "execute_result"
    }
   ],
   "source": [
    "roc_auc_score(treino_resposta, y_teste_pred[:, 1])"
   ]
  },
  {
   "cell_type": "code",
   "execution_count": null,
   "metadata": {},
   "outputs": [],
   "source": []
  },
  {
   "cell_type": "code",
   "execution_count": null,
   "metadata": {},
   "outputs": [],
   "source": []
  },
  {
   "cell_type": "code",
   "execution_count": 8,
   "metadata": {},
   "outputs": [],
   "source": [
    "modelo = RandomForestClassifier(n_estimators = 100,\n",
    "                                max_depth=5,\n",
    "                                max_samples = 10,\n",
    "                                n_jobs = -1) \n",
    "\n"
   ]
  },
  {
   "cell_type": "code",
   "execution_count": 9,
   "metadata": {},
   "outputs": [
    {
     "data": {
      "text/plain": [
       "RandomForestClassifier(max_depth=5, max_samples=10, n_jobs=-1)"
      ]
     },
     "execution_count": 9,
     "metadata": {},
     "output_type": "execute_result"
    }
   ],
   "source": [
    "modelo.fit(treino_pca, treino_resposta)"
   ]
  },
  {
   "cell_type": "code",
   "execution_count": 10,
   "metadata": {},
   "outputs": [],
   "source": [
    "y_teste_pred = modelo.predict_proba(treino_pca)"
   ]
  },
  {
   "cell_type": "code",
   "execution_count": 11,
   "metadata": {},
   "outputs": [
    {
     "data": {
      "text/plain": [
       "0.5257018177853641"
      ]
     },
     "execution_count": 11,
     "metadata": {},
     "output_type": "execute_result"
    }
   ],
   "source": [
    "roc_auc_score(treino_resposta, y_teste_pred[:, 1])"
   ]
  },
  {
   "cell_type": "code",
   "execution_count": null,
   "metadata": {},
   "outputs": [],
   "source": []
  },
  {
   "cell_type": "code",
   "execution_count": 12,
   "metadata": {},
   "outputs": [],
   "source": [
    "modelo = DecisionTreeClassifier()\n",
    "rscv = RandomizedSearchCV(estimator = modelo,\n",
    "                          param_distributions = {'max_depth': np.arange(1, 20), \n",
    "                                                 'criterion': ['gini', 'entropy'],\n",
    "                                                 'min_samples_leaf': np.arange(1, 50),\n",
    "                                                 'min_samples_split': np.arange(2, 50),\n",
    "                                                 'min_impurity_decrease': np.arange(0, 1, 0.001)},\n",
    "                          scoring = 'roc_auc',\n",
    "                          cv = 5,\n",
    "                          refit = True,\n",
    "                          verbose = 1,\n",
    "                            n_jobs = -1,\n",
    "                          n_iter = 1440)"
   ]
  },
  {
   "cell_type": "code",
   "execution_count": 13,
   "metadata": {
    "scrolled": false
   },
   "outputs": [
    {
     "name": "stdout",
     "output_type": "stream",
     "text": [
      "Fitting 5 folds for each of 1440 candidates, totalling 7200 fits\n"
     ]
    },
    {
     "name": "stderr",
     "output_type": "stream",
     "text": [
      "[Parallel(n_jobs=-1)]: Using backend LokyBackend with 8 concurrent workers.\n",
      "[Parallel(n_jobs=-1)]: Done  34 tasks      | elapsed:    4.1s\n",
      "[Parallel(n_jobs=-1)]: Done 184 tasks      | elapsed:   10.2s\n",
      "[Parallel(n_jobs=-1)]: Done 434 tasks      | elapsed:   20.5s\n",
      "[Parallel(n_jobs=-1)]: Done 784 tasks      | elapsed:   35.1s\n",
      "[Parallel(n_jobs=-1)]: Done 1234 tasks      | elapsed:   54.6s\n",
      "[Parallel(n_jobs=-1)]: Done 1784 tasks      | elapsed:  1.3min\n",
      "[Parallel(n_jobs=-1)]: Done 2434 tasks      | elapsed:  1.7min\n",
      "[Parallel(n_jobs=-1)]: Done 3184 tasks      | elapsed:  2.3min\n",
      "[Parallel(n_jobs=-1)]: Done 4034 tasks      | elapsed:  2.9min\n",
      "[Parallel(n_jobs=-1)]: Done 4984 tasks      | elapsed:  3.6min\n",
      "[Parallel(n_jobs=-1)]: Done 6034 tasks      | elapsed:  4.4min\n",
      "[Parallel(n_jobs=-1)]: Done 7184 tasks      | elapsed:  5.2min\n",
      "[Parallel(n_jobs=-1)]: Done 7200 out of 7200 | elapsed:  5.2min finished\n"
     ]
    },
    {
     "data": {
      "text/plain": [
       "RandomizedSearchCV(cv=5, estimator=DecisionTreeClassifier(), n_iter=1440,\n",
       "                   n_jobs=-1,\n",
       "                   param_distributions={'criterion': ['gini', 'entropy'],\n",
       "                                        'max_depth': array([ 1,  2,  3,  4,  5,  6,  7,  8,  9, 10, 11, 12, 13, 14, 15, 16, 17,\n",
       "       18, 19]),\n",
       "                                        'min_impurity_decrease': array([0.   , 0.001, 0.002, 0.003, 0.004, 0.005, 0.006, 0.007, 0.008,\n",
       "       0.009, 0.01 , 0.011, 0.012, 0.013, 0.014, 0.015, 0.016, 0.017,\n",
       "       0.018, 0.019, 0...\n",
       "                                        'min_samples_leaf': array([ 1,  2,  3,  4,  5,  6,  7,  8,  9, 10, 11, 12, 13, 14, 15, 16, 17,\n",
       "       18, 19, 20, 21, 22, 23, 24, 25, 26, 27, 28, 29, 30, 31, 32, 33, 34,\n",
       "       35, 36, 37, 38, 39, 40, 41, 42, 43, 44, 45, 46, 47, 48, 49]),\n",
       "                                        'min_samples_split': array([ 2,  3,  4,  5,  6,  7,  8,  9, 10, 11, 12, 13, 14, 15, 16, 17, 18,\n",
       "       19, 20, 21, 22, 23, 24, 25, 26, 27, 28, 29, 30, 31, 32, 33, 34, 35,\n",
       "       36, 37, 38, 39, 40, 41, 42, 43, 44, 45, 46, 47, 48, 49])},\n",
       "                   scoring='roc_auc', verbose=1)"
      ]
     },
     "execution_count": 13,
     "metadata": {},
     "output_type": "execute_result"
    }
   ],
   "source": [
    "rscv.fit(treino_pca, treino_resposta)"
   ]
  },
  {
   "cell_type": "code",
   "execution_count": 14,
   "metadata": {},
   "outputs": [
    {
     "data": {
      "text/plain": [
       "{'min_samples_split': 44,\n",
       " 'min_samples_leaf': 8,\n",
       " 'min_impurity_decrease': 0.0,\n",
       " 'max_depth': 6,\n",
       " 'criterion': 'entropy'}"
      ]
     },
     "execution_count": 14,
     "metadata": {},
     "output_type": "execute_result"
    }
   ],
   "source": [
    "rscv.best_params_"
   ]
  },
  {
   "cell_type": "code",
   "execution_count": 15,
   "metadata": {},
   "outputs": [],
   "source": [
    "y_teste_pred = rscv.predict_proba(treino_pca)"
   ]
  },
  {
   "cell_type": "code",
   "execution_count": 16,
   "metadata": {},
   "outputs": [
    {
     "data": {
      "text/plain": [
       "0.5919920477778472"
      ]
     },
     "execution_count": 16,
     "metadata": {},
     "output_type": "execute_result"
    }
   ],
   "source": [
    "roc_auc_score(treino_resposta, y_teste_pred[:, 1])"
   ]
  },
  {
   "cell_type": "markdown",
   "metadata": {},
   "source": [
    "# Adaboost"
   ]
  },
  {
   "cell_type": "code",
   "execution_count": 56,
   "metadata": {},
   "outputs": [],
   "source": [
    "from sklearn.ensemble import AdaBoostClassifier"
   ]
  },
  {
   "cell_type": "code",
   "execution_count": 58,
   "metadata": {},
   "outputs": [],
   "source": [
    "clf = AdaBoostClassifier(base_estimator=DecisionTreeClassifier(min_samples_split = 34,\n",
    " min_samples_leaf = 22,\n",
    " min_impurity_decrease = 0.0,\n",
    " max_depth = 7,\n",
    " criterion = 'entropy'), n_estimators=100)"
   ]
  },
  {
   "cell_type": "code",
   "execution_count": 60,
   "metadata": {},
   "outputs": [
    {
     "data": {
      "text/plain": [
       "AdaBoostClassifier(base_estimator=DecisionTreeClassifier(criterion='entropy',\n",
       "                                                         max_depth=7,\n",
       "                                                         min_samples_leaf=22,\n",
       "                                                         min_samples_split=34),\n",
       "                   n_estimators=100)"
      ]
     },
     "execution_count": 60,
     "metadata": {},
     "output_type": "execute_result"
    }
   ],
   "source": [
    "clf.fit(treino_explicativo, treino_resposta)"
   ]
  },
  {
   "cell_type": "code",
   "execution_count": 61,
   "metadata": {},
   "outputs": [],
   "source": [
    "y_teste_pred = clf.predict_proba(treino_explicativo)"
   ]
  },
  {
   "cell_type": "code",
   "execution_count": 62,
   "metadata": {},
   "outputs": [
    {
     "data": {
      "text/plain": [
       "0.7731051228498657"
      ]
     },
     "execution_count": 62,
     "metadata": {},
     "output_type": "execute_result"
    }
   ],
   "source": [
    "roc_auc_score(treino_resposta, y_teste_pred[:, 1])"
   ]
  },
  {
   "cell_type": "code",
   "execution_count": null,
   "metadata": {},
   "outputs": [],
   "source": []
  },
  {
   "cell_type": "code",
   "execution_count": 63,
   "metadata": {},
   "outputs": [],
   "source": [
    "clf = AdaBoostClassifier(base_estimator=RandomForestClassifier(n_jobs = -1,\n",
    " n_estimators = 200,\n",
    " min_samples_split = 2,\n",
    " min_impurity_decrease = 0.234,\n",
    " max_samples = 4,\n",
    " max_leaf_nodes = 15,\n",
    " max_depth = 4,\n",
    " criterion = 'entropy',\n",
    " class_weight = 'balanced'), n_estimators=100)"
   ]
  },
  {
   "cell_type": "code",
   "execution_count": 64,
   "metadata": {
    "scrolled": true
   },
   "outputs": [
    {
     "data": {
      "text/plain": [
       "AdaBoostClassifier(base_estimator=RandomForestClassifier(class_weight='balanced',\n",
       "                                                         criterion='entropy',\n",
       "                                                         max_depth=4,\n",
       "                                                         max_leaf_nodes=15,\n",
       "                                                         max_samples=4,\n",
       "                                                         min_impurity_decrease=0.234,\n",
       "                                                         n_estimators=200,\n",
       "                                                         n_jobs=-1),\n",
       "                   n_estimators=100)"
      ]
     },
     "execution_count": 64,
     "metadata": {},
     "output_type": "execute_result"
    }
   ],
   "source": [
    "clf.fit(treino_explicativo, treino_resposta)"
   ]
  },
  {
   "cell_type": "code",
   "execution_count": 65,
   "metadata": {},
   "outputs": [],
   "source": [
    "y_teste_pred = clf.predict_proba(treino_explicativo)"
   ]
  },
  {
   "cell_type": "code",
   "execution_count": 66,
   "metadata": {},
   "outputs": [
    {
     "data": {
      "text/plain": [
       "0.5422109785139895"
      ]
     },
     "execution_count": 66,
     "metadata": {},
     "output_type": "execute_result"
    }
   ],
   "source": [
    "roc_auc_score(treino_resposta, y_teste_pred[:, 1])"
   ]
  },
  {
   "cell_type": "code",
   "execution_count": null,
   "metadata": {},
   "outputs": [],
   "source": []
  },
  {
   "cell_type": "code",
   "execution_count": null,
   "metadata": {},
   "outputs": [],
   "source": []
  },
  {
   "cell_type": "code",
   "execution_count": null,
   "metadata": {},
   "outputs": [],
   "source": []
  },
  {
   "cell_type": "code",
   "execution_count": 18,
   "metadata": {
    "scrolled": true
   },
   "outputs": [],
   "source": [
    "corr = treino_explicativo.corr().abs()\n"
   ]
  },
  {
   "cell_type": "code",
   "execution_count": 19,
   "metadata": {},
   "outputs": [],
   "source": [
    "# Select upper triangle of correlation matrix\n",
    "upper = (corr.where(np.triu(np.ones(corr.shape), k=1).astype(np.bool)).stack().sort_values(ascending=False))"
   ]
  },
  {
   "cell_type": "code",
   "execution_count": 20,
   "metadata": {},
   "outputs": [],
   "source": [
    "top = upper[upper > 0.8]"
   ]
  },
  {
   "cell_type": "code",
   "execution_count": 21,
   "metadata": {},
   "outputs": [
    {
     "data": {
      "text/plain": [
       "sec_emp_san      sec_emp_tom            0.999679\n",
       "pri_emp_san      pri_emp_tom            0.998797\n",
       "id_pessoa        dias_contrato          0.993194\n",
       "flag_pan         score_desc             0.949393\n",
       "sec_emp_abt      sec_emp_tom            0.929429\n",
       "                 sec_emp_san            0.928639\n",
       "tem_med_emp      tem_pri_emp            0.831254\n",
       "sec_qtd_tot_emp  sec_qtd_tot_emp_atv    0.829059\n",
       "dtype: float64"
      ]
     },
     "execution_count": 21,
     "metadata": {},
     "output_type": "execute_result"
    }
   ],
   "source": [
    "top"
   ]
  },
  {
   "cell_type": "code",
   "execution_count": 22,
   "metadata": {},
   "outputs": [
    {
     "data": {
      "text/plain": [
       "Text(0, 0.5, 'cumulative explained variance')"
      ]
     },
     "execution_count": 22,
     "metadata": {},
     "output_type": "execute_result"
    },
    {
     "data": {
      "image/png": "[encoded data removed]",
      "text/plain": [
       "<Figure size 432x288 with 1 Axes>"
      ]
     },
     "metadata": {
      "needs_background": "light"
     },
     "output_type": "display_data"
    }
   ],
   "source": [
    "plt.plot(np.cumsum(pca.explained_variance_ratio_))\n",
    "plt.xlabel('number of components')\n",
    "plt.ylabel('cumulative explained variance')"
   ]
  },
  {
   "cell_type": "code",
   "execution_count": 36,
   "metadata": {},
   "outputs": [
    {
     "data": {
      "text/plain": [
       "default    1.0\n",
       "Name: default, dtype: float64"
      ]
     },
     "execution_count": 36,
     "metadata": {},
     "output_type": "execute_result"
    }
   ],
   "source": [
    "#Correlation with output variable\n",
    "\n",
    "df = treino_explicativo\n",
    "df[\"default\"] = treino_resposta\n",
    "cor = df.corr()\n",
    "cor_target = abs(cor[\"default\"])#Selecting highly correlated features\n",
    "relevant_features = cor_target[cor_target>0.5]\n",
    "relevant_features"
   ]
  },
  {
   "cell_type": "code",
   "execution_count": 39,
   "metadata": {},
   "outputs": [
    {
     "data": {
      "text/plain": [
       "default                1.000000\n",
       "score                  0.097095\n",
       "flag_eleitor           0.075991\n",
       "flag_pan               0.071287\n",
       "score_desc             0.058982\n",
       "qtd_sol_emp            0.044422\n",
       "tem_pri_emp            0.042799\n",
       "pri_qtd_tot_def        0.041481\n",
       "pri_qtd_tot_emp_atv    0.041252\n",
       "emprestimo_custo       0.040813\n",
       "idade                  0.035524\n",
       "def_emp_6m             0.035229\n",
       "pri_qtd_tot_emp        0.034723\n",
       "id_pessoa              0.031864\n",
       "nov_emp_6m             0.029081\n",
       "valor_emprestimo       0.026955\n",
       "tem_med_emp            0.026421\n",
       "pri_emp_abt            0.026016\n",
       "dias_contrato          0.025934\n",
       "flag_cmotorista        0.013679\n",
       "par_pri_emp            0.010090\n",
       "pri_emp_san            0.009322\n",
       "sec_qtd_tot_emp        0.009307\n",
       "pri_emp_tom            0.009182\n",
       "sec_emp_san            0.006843\n",
       "sec_emp_tom            0.006736\n",
       "sec_qtd_tot_emp_atv    0.006551\n",
       "sec_emp_abt            0.006056\n",
       "emprego                0.004613\n",
       "custo_ativo            0.002657\n",
       "par_seg_emp            0.001565\n",
       "sec_qtd_tot_def        0.000548\n",
       "Name: default, dtype: float64"
      ]
     },
     "execution_count": 39,
     "metadata": {},
     "output_type": "execute_result"
    }
   ],
   "source": [
    "cor_target.sort_values(ascending=False)"
   ]
  },
  {
   "cell_type": "code",
   "execution_count": 12,
   "metadata": {},
   "outputs": [],
   "source": [
    "selecionados = treino_explicativo[[\"flag_eleitor\", \"flag_pan\",\"score_desc\",\"qtd_sol_emp\",\n",
    "                                  \"tem_pri_emp\",\"pri_qtd_tot_def\",\"pri_qtd_tot_emp_atv\",\n",
    "                                  \"emprestimo_custo\",\"idade\",\"def_emp_6m\",\"pri_qtd_tot_emp\",\n",
    "                                  \"id_pessoa\",\"nov_emp_6m\",\"valor_emprestimo\",\"tem_med_emp\",\n",
    "                                  \"pri_emp_abt\",\"dias_contrato\",\"flag_cmotorista\",\"par_pri_emp\"]]"
   ]
  },
  {
   "cell_type": "code",
   "execution_count": 13,
   "metadata": {},
   "outputs": [],
   "source": [
    "modelo = RandomForestClassifier() \n",
    "\n",
    "\n",
    "rscv = RandomizedSearchCV(estimator = modelo,\n",
    "                          param_distributions = {'n_estimators': np.arange(100, 1000, 100),\n",
    "                                                 'max_samples': np.arange(1, 5),\n",
    "                                                 'max_depth': np.arange(3,5),\n",
    "                                                 \n",
    "                                                 'criterion': ['gini', 'entropy'],\n",
    "                                                 'max_leaf_nodes': np.arange(0, 50),\n",
    "                                                 'min_samples_split': np.arange(2, 50),\n",
    "                                                 'n_jobs': [-1],\n",
    "                                                 'class_weight' : ['balanced', 'balanced_subsample', 'None'],\n",
    "                                                 'min_impurity_decrease': np.arange(0, 1, 0.001)},\n",
    "                          scoring = 'roc_auc',\n",
    "                          cv = 5,\n",
    "                          refit = True,\n",
    "                          verbose = 1,\n",
    "                            n_jobs = 5,\n",
    "                          n_iter = 100)\n"
   ]
  },
  {
   "cell_type": "code",
   "execution_count": 14,
   "metadata": {},
   "outputs": [
    {
     "name": "stdout",
     "output_type": "stream",
     "text": [
      "Fitting 5 folds for each of 100 candidates, totalling 500 fits\n"
     ]
    },
    {
     "name": "stderr",
     "output_type": "stream",
     "text": [
      "[Parallel(n_jobs=5)]: Using backend LokyBackend with 5 concurrent workers.\n",
      "[Parallel(n_jobs=5)]: Done  40 tasks      | elapsed:  1.4min\n",
      "[Parallel(n_jobs=5)]: Done 190 tasks      | elapsed:  8.6min\n",
      "[Parallel(n_jobs=5)]: Done 440 tasks      | elapsed: 19.7min\n",
      "[Parallel(n_jobs=5)]: Done 500 out of 500 | elapsed: 21.8min finished\n"
     ]
    },
    {
     "data": {
      "text/plain": [
       "RandomizedSearchCV(cv=5, estimator=RandomForestClassifier(), n_iter=100,\n",
       "                   n_jobs=5,\n",
       "                   param_distributions={'class_weight': ['balanced',\n",
       "                                                         'balanced_subsample',\n",
       "                                                         'None'],\n",
       "                                        'criterion': ['gini', 'entropy'],\n",
       "                                        'max_depth': array([3, 4]),\n",
       "                                        'max_leaf_nodes': array([ 0,  1,  2,  3,  4,  5,  6,  7,  8,  9, 10, 11, 12, 13, 14, 15, 16,\n",
       "       17, 18, 19, 20, 21, 22, 23, 24, 25, 26, 27, 28, 29, 30, 31, 32, 33,\n",
       "       34, 35, 36, 37, 38, 39, 40, 4...\n",
       "       0.981, 0.982, 0.983, 0.984, 0.985, 0.986, 0.987, 0.988, 0.989,\n",
       "       0.99 , 0.991, 0.992, 0.993, 0.994, 0.995, 0.996, 0.997, 0.998,\n",
       "       0.999]),\n",
       "                                        'min_samples_split': array([ 2,  3,  4,  5,  6,  7,  8,  9, 10, 11, 12, 13, 14, 15, 16, 17, 18,\n",
       "       19, 20, 21, 22, 23, 24, 25, 26, 27, 28, 29, 30, 31, 32, 33, 34, 35,\n",
       "       36, 37, 38, 39, 40, 41, 42, 43, 44, 45, 46, 47, 48, 49]),\n",
       "                                        'n_estimators': array([100, 200, 300, 400, 500, 600, 700, 800, 900]),\n",
       "                                        'n_jobs': [-1]},\n",
       "                   scoring='roc_auc', verbose=1)"
      ]
     },
     "execution_count": 14,
     "metadata": {},
     "output_type": "execute_result"
    }
   ],
   "source": [
    "rscv.fit(selecionados, treino_resposta)"
   ]
  },
  {
   "cell_type": "code",
   "execution_count": 16,
   "metadata": {},
   "outputs": [
    {
     "data": {
      "text/plain": [
       "0.5"
      ]
     },
     "execution_count": 16,
     "metadata": {},
     "output_type": "execute_result"
    }
   ],
   "source": [
    "y_teste_pred = rscv.predict(selecionados)\n",
    "\n",
    "roc_auc_score(treino_resposta, y_teste_pred)"
   ]
  },
  {
   "cell_type": "code",
   "execution_count": 17,
   "metadata": {},
   "outputs": [
    {
     "data": {
      "text/plain": [
       "4009"
      ]
     },
     "execution_count": 17,
     "metadata": {},
     "output_type": "execute_result"
    }
   ],
   "source": []
  },
  {
   "cell_type": "code",
   "execution_count": 18,
   "metadata": {},
   "outputs": [],
   "source": [
    "modelo = DecisionTreeClassifier()\n",
    "rscv = RandomizedSearchCV(estimator = modelo,\n",
    "                          param_distributions = {'max_depth': np.arange(1, 20), \n",
    "                                                 'criterion': ['gini', 'entropy'],\n",
    "                                                 'min_samples_leaf': np.arange(1, 50),\n",
    "                                                 'min_samples_split': np.arange(2, 50),\n",
    "                                                 'min_impurity_decrease': np.arange(0, 1, 0.001)},\n",
    "                          scoring = 'roc_auc',\n",
    "                          cv = 5,\n",
    "                          refit = True,\n",
    "                          verbose = 1,\n",
    "                            n_jobs = 5,\n",
    "                          n_iter = 1440)\n",
    "\n",
    "\n",
    "\n",
    "\n",
    "\n",
    "\n"
   ]
  },
  {
   "cell_type": "code",
   "execution_count": 19,
   "metadata": {},
   "outputs": [
    {
     "name": "stdout",
     "output_type": "stream",
     "text": [
      "Fitting 5 folds for each of 1440 candidates, totalling 7200 fits\n"
     ]
    },
    {
     "name": "stderr",
     "output_type": "stream",
     "text": [
      "[Parallel(n_jobs=5)]: Using backend LokyBackend with 5 concurrent workers.\n",
      "[Parallel(n_jobs=5)]: Done  40 tasks      | elapsed:    5.0s\n",
      "[Parallel(n_jobs=5)]: Done 190 tasks      | elapsed:   17.5s\n",
      "[Parallel(n_jobs=5)]: Done 440 tasks      | elapsed:   43.6s\n",
      "[Parallel(n_jobs=5)]: Done 790 tasks      | elapsed:  1.3min\n",
      "[Parallel(n_jobs=5)]: Done 1240 tasks      | elapsed:  2.0min\n",
      "[Parallel(n_jobs=5)]: Done 1790 tasks      | elapsed:  3.1min\n",
      "[Parallel(n_jobs=5)]: Done 2440 tasks      | elapsed:  4.1min\n",
      "[Parallel(n_jobs=5)]: Done 3190 tasks      | elapsed:  5.3min\n",
      "[Parallel(n_jobs=5)]: Done 4040 tasks      | elapsed:  7.1min\n",
      "[Parallel(n_jobs=5)]: Done 4990 tasks      | elapsed:  8.9min\n",
      "[Parallel(n_jobs=5)]: Done 6040 tasks      | elapsed: 11.5min\n",
      "[Parallel(n_jobs=5)]: Done 7190 tasks      | elapsed: 14.5min\n",
      "[Parallel(n_jobs=5)]: Done 7200 out of 7200 | elapsed: 14.6min finished\n"
     ]
    },
    {
     "data": {
      "text/plain": [
       "RandomizedSearchCV(cv=5, estimator=DecisionTreeClassifier(), n_iter=1440,\n",
       "                   n_jobs=5,\n",
       "                   param_distributions={'criterion': ['gini', 'entropy'],\n",
       "                                        'max_depth': array([ 1,  2,  3,  4,  5,  6,  7,  8,  9, 10, 11, 12, 13, 14, 15, 16, 17,\n",
       "       18, 19]),\n",
       "                                        'min_impurity_decrease': array([0.   , 0.001, 0.002, 0.003, 0.004, 0.005, 0.006, 0.007, 0.008,\n",
       "       0.009, 0.01 , 0.011, 0.012, 0.013, 0.014, 0.015, 0.016, 0.017,\n",
       "       0.018, 0.019, 0....\n",
       "                                        'min_samples_leaf': array([ 1,  2,  3,  4,  5,  6,  7,  8,  9, 10, 11, 12, 13, 14, 15, 16, 17,\n",
       "       18, 19, 20, 21, 22, 23, 24, 25, 26, 27, 28, 29, 30, 31, 32, 33, 34,\n",
       "       35, 36, 37, 38, 39, 40, 41, 42, 43, 44, 45, 46, 47, 48, 49]),\n",
       "                                        'min_samples_split': array([ 2,  3,  4,  5,  6,  7,  8,  9, 10, 11, 12, 13, 14, 15, 16, 17, 18,\n",
       "       19, 20, 21, 22, 23, 24, 25, 26, 27, 28, 29, 30, 31, 32, 33, 34, 35,\n",
       "       36, 37, 38, 39, 40, 41, 42, 43, 44, 45, 46, 47, 48, 49])},\n",
       "                   scoring='roc_auc', verbose=1)"
      ]
     },
     "execution_count": 19,
     "metadata": {},
     "output_type": "execute_result"
    }
   ],
   "source": [
    "rscv.fit(selecionados, treino_resposta)"
   ]
  },
  {
   "cell_type": "code",
   "execution_count": 24,
   "metadata": {},
   "outputs": [
    {
     "data": {
      "text/plain": [
       "{'min_samples_split': 13,\n",
       " 'min_samples_leaf': 44,\n",
       " 'min_impurity_decrease': 0.0,\n",
       " 'max_depth': 5,\n",
       " 'criterion': 'entropy'}"
      ]
     },
     "execution_count": 24,
     "metadata": {},
     "output_type": "execute_result"
    }
   ],
   "source": [
    "rscv.best_params_"
   ]
  },
  {
   "cell_type": "code",
   "execution_count": 20,
   "metadata": {},
   "outputs": [],
   "source": [
    "y_teste_pred = rscv.predict_proba(selecionados)"
   ]
  },
  {
   "cell_type": "code",
   "execution_count": 21,
   "metadata": {},
   "outputs": [
    {
     "data": {
      "text/plain": [
       "0.610088477027986"
      ]
     },
     "execution_count": 21,
     "metadata": {},
     "output_type": "execute_result"
    }
   ],
   "source": [
    "roc_auc_score(treino_resposta, y_teste_pred[:, 1])"
   ]
  },
  {
   "cell_type": "markdown",
   "metadata": {},
   "source": [
    "# Gradient Boost"
   ]
  },
  {
   "cell_type": "code",
   "execution_count": 25,
   "metadata": {},
   "outputs": [],
   "source": [
    "from sklearn.ensemble import GradientBoostingClassifier"
   ]
  },
  {
   "cell_type": "code",
   "execution_count": 32,
   "metadata": {},
   "outputs": [
    {
     "name": "stdout",
     "output_type": "stream",
     "text": [
      "Learning rate:  0.05\n",
      "Roc_Auc Score: 0.644\n",
      "Learning rate:  0.1\n",
      "Roc_Auc Score: 0.651\n",
      "Learning rate:  0.25\n",
      "Roc_Auc Score: 0.661\n",
      "Learning rate:  0.5\n",
      "Roc_Auc Score: 0.666\n",
      "Learning rate:  0.75\n",
      "Roc_Auc Score: 0.670\n",
      "Learning rate:  1\n",
      "Roc_Auc Score: 0.672\n"
     ]
    }
   ],
   "source": [
    "learning_rates = [0.05, 0.1, 0.25, 0.5, 0.75, 1]\n",
    "for learning_rate in learning_rates:\n",
    "    gb = GradientBoostingClassifier(learning_rate = learning_rate, random_state = 0)\n",
    "    gb.fit(treino_explicativo, treino_resposta)\n",
    "    print(\"Learning rate: \", learning_rate)\n",
    "    y_teste_pred = gb.predict_proba(treino_explicativo)\n",
    "    print(\"Roc_Auc Score: {0:.3f}\".format(roc_auc_score(treino_resposta, y_teste_pred[:, 1])))\n",
    "\n",
    "\n",
    "\n",
    "\n",
    "\n"
   ]
  },
  {
   "cell_type": "code",
   "execution_count": 35,
   "metadata": {},
   "outputs": [],
   "source": [
    "modelo = GradientBoostingClassifier() \n",
    "\n",
    "\n",
    "rscv = RandomizedSearchCV(estimator = modelo,\n",
    "                          param_distributions = {'learning_rate': [0.05, 0.1, 0.25, 0.5, 0.75, 1],\n",
    "                                                 'max_depth': np.arange(3, 10,1),\n",
    "                                                \"max_features\" : ['auto', 'sqrt', 'log2', None],\n",
    "                                                 },\n",
    "                          scoring = 'roc_auc',\n",
    "                          cv = 5,\n",
    "                          refit = True,\n",
    "                          verbose = 1,\n",
    "                            n_jobs = 5,\n",
    "                          n_iter = 100)\n",
    "\n"
   ]
  },
  {
   "cell_type": "code",
   "execution_count": 37,
   "metadata": {},
   "outputs": [
    {
     "name": "stdout",
     "output_type": "stream",
     "text": [
      "Fitting 5 folds for each of 100 candidates, totalling 500 fits\n"
     ]
    },
    {
     "name": "stderr",
     "output_type": "stream",
     "text": [
      "[Parallel(n_jobs=5)]: Using backend LokyBackend with 5 concurrent workers.\n",
      "[Parallel(n_jobs=5)]: Done  40 tasks      | elapsed: 28.0min\n",
      "[Parallel(n_jobs=5)]: Done 190 tasks      | elapsed: 108.0min\n",
      "[Parallel(n_jobs=5)]: Done 440 tasks      | elapsed: 217.2min\n",
      "[Parallel(n_jobs=5)]: Done 500 out of 500 | elapsed: 237.1min finished\n"
     ]
    },
    {
     "data": {
      "text/plain": [
       "0.7073408909506756"
      ]
     },
     "execution_count": 37,
     "metadata": {},
     "output_type": "execute_result"
    }
   ],
   "source": [
    "rscv.fit(treino_explicativo, treino_resposta)\n",
    "\n",
    "y_teste_pred = rscv.predict_proba(treino_explicativo)\n",
    "\n",
    "roc_auc_score(treino_resposta, y_teste_pred[:, 1])"
   ]
  },
  {
   "cell_type": "code",
   "execution_count": 38,
   "metadata": {},
   "outputs": [
    {
     "data": {
      "text/plain": [
       "{'max_features': 'log2', 'max_depth': 8, 'learning_rate': 0.05}"
      ]
     },
     "execution_count": 38,
     "metadata": {},
     "output_type": "execute_result"
    }
   ],
   "source": [
    "rscv.best_params_"
   ]
  },
  {
   "cell_type": "code",
   "execution_count": null,
   "metadata": {},
   "outputs": [],
   "source": []
  }
 ],
 "metadata": {
  "kernelspec": {
   "display_name": "Python 3",
   "language": "python",
   "name": "python3"
  },
  "language_info": {
   "codemirror_mode": {
    "name": "ipython",
    "version": 3
   },
   "file_extension": ".py",
   "mimetype": "text/x-python",
   "name": "python",
   "nbconvert_exporter": "python",
   "pygments_lexer": "ipython3",
   "version": "3.8.3"
  }
 },
 "nbformat": 4,
 "nbformat_minor": 4
}
